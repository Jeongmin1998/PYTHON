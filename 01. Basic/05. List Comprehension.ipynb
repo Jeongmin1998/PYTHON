{
  "nbformat": 4,
  "nbformat_minor": 0,
  "metadata": {
    "colab": {
      "name": "[실습]Ch05.python프로그래밍 - 07.list_comprehension.ipynb",
      "provenance": [],
      "collapsed_sections": []
    },
    "kernelspec": {
      "name": "python3",
      "display_name": "Python 3"
    }
  },
  "cells": [
    {
      "cell_type": "markdown",
      "metadata": {
        "id": "n-n5ndyR0qAQ"
      },
      "source": [
        "## 1. List Comprehension "
      ]
    },
    {
      "cell_type": "markdown",
      "metadata": {
        "id": "ZtKqIjTr1QuC"
      },
      "source": [
        "* for ~ in  구조\n",
        "* List Comprehension이기 때문에 List를 사용\n"
      ]
    },
    {
      "cell_type": "markdown",
      "metadata": {
        "id": "p_lhkuKE12BP"
      },
      "source": [
        "mylist = [1, 2, 3, 4, 5, 6, 7, 8, 9, 10]\n",
        "\n",
        "이라는 list를 만들어 주고 이전에 이 중 짝수만 출력하고 싶을때는 아래와 같이 해줬었다. "
      ]
    },
    {
      "cell_type": "code",
      "metadata": {
        "id": "hCQjnhjP3My-",
        "colab": {
          "base_uri": "https://localhost:8080/"
        },
        "outputId": "75d161d3-a13f-407f-cd82-0aeae26bf05f"
      },
      "source": [
        "mylist = [1, 2, 3, 4, 5, 6, 7, 8, 9, 10]\n",
        "\n",
        "\n",
        "# 코드를 입력하세요\n",
        "\n",
        "for i in mylist:\n",
        "  if i % 2 ==0:\n",
        "    print(i)\n"
      ],
      "execution_count": 29,
      "outputs": [
        {
          "output_type": "stream",
          "text": [
            "2\n",
            "4\n",
            "6\n",
            "8\n",
            "10\n"
          ],
          "name": "stdout"
        }
      ]
    },
    {
      "cell_type": "markdown",
      "metadata": {
        "id": "TdQRUzn83UHe"
      },
      "source": [
        "그럼 mylist 이라는 list에서 짝수만 따로 list로 만들어 주고 싶을 때는 어떻게?"
      ]
    },
    {
      "cell_type": "code",
      "metadata": {
        "id": "EL1bUHsy3hjm",
        "colab": {
          "base_uri": "https://localhost:8080/"
        },
        "outputId": "cb259ea7-bdd0-45b6-a9c2-9f05958b5371"
      },
      "source": [
        "even = [] #빈 list를 만들어주기\n",
        "\n",
        "for i in mylist:\n",
        "  if i % 2 == 0:\n",
        "    even.append(i)\n",
        "print(even)"
      ],
      "execution_count": 30,
      "outputs": [
        {
          "output_type": "stream",
          "text": [
            "[2, 4, 6, 8, 10]\n"
          ],
          "name": "stdout"
        }
      ]
    },
    {
      "cell_type": "markdown",
      "metadata": {
        "id": "IXpVuU-w3qlQ"
      },
      "source": [
        "이렇게 for in 문으로 해줄 수 있음  \r\n",
        "하지만, **list comprehension을 통해 더욱 쉽게 해결** 가능!!!\r\n",
        "\r\n",
        "\r\n",
        "\r\n"
      ]
    },
    {
      "cell_type": "markdown",
      "metadata": {
        "id": "hHsywfmA3x0u"
      },
      "source": [
        "### 1-1. list comprehension 조건필터"
      ]
    },
    {
      "cell_type": "markdown",
      "metadata": {
        "id": "n596iPJO4F6p"
      },
      "source": [
        "한 줄로 해결해 버리는 것이 list comprehension의 매력"
      ]
    },
    {
      "cell_type": "code",
      "metadata": {
        "id": "OsWyGNsv39-m"
      },
      "source": [
        "even = [i for i in mylist if i % 2 ==0] #맨 앞 i 주의"
      ],
      "execution_count": 6,
      "outputs": []
    },
    {
      "cell_type": "code",
      "metadata": {
        "id": "15LGNXFL39oV",
        "colab": {
          "base_uri": "https://localhost:8080/"
        },
        "outputId": "5fc01c6e-b1ce-42ee-c34d-671f38c5c9d6"
      },
      "source": [
        "even"
      ],
      "execution_count": 7,
      "outputs": [
        {
          "output_type": "execute_result",
          "data": {
            "text/plain": [
              "[2, 4, 6, 8, 10]"
            ]
          },
          "metadata": {
            "tags": []
          },
          "execution_count": 7
        }
      ]
    },
    {
      "cell_type": "markdown",
      "metadata": {
        "id": "FgKIRVuZ4NyB"
      },
      "source": [
        "### 1-2. [STEP 1] list를 만들어 주어야 하니 일단 [] 씌워주기"
      ]
    },
    {
      "cell_type": "code",
      "metadata": {
        "id": "qB_ttUIH4R8W",
        "colab": {
          "base_uri": "https://localhost:8080/",
          "height": 135
        },
        "outputId": "313db2c4-9c4b-4129-d8f0-6a9112b39a1b"
      },
      "source": [
        "even = [for i in mylist]"
      ],
      "execution_count": 31,
      "outputs": [
        {
          "output_type": "error",
          "ename": "SyntaxError",
          "evalue": "ignored",
          "traceback": [
            "\u001b[0;36m  File \u001b[0;32m\"<ipython-input-31-e69ef2323976>\"\u001b[0;36m, line \u001b[0;32m1\u001b[0m\n\u001b[0;31m    even = [for i in mylist]\u001b[0m\n\u001b[0m              ^\u001b[0m\n\u001b[0;31mSyntaxError\u001b[0m\u001b[0;31m:\u001b[0m invalid syntax\n"
          ]
        }
      ]
    },
    {
      "cell_type": "markdown",
      "metadata": {
        "id": "XQzizCSc4iMd"
      },
      "source": [
        "for i in mylist 구문에서 반복문을 돌면서 i 값이 return 된다고 생각하고 그 변수를 list에 다시 넣어주는 원리"
      ]
    },
    {
      "cell_type": "markdown",
      "metadata": {
        "id": "ODrhWVEe4sxQ"
      },
      "source": [
        "즉, i를 for 문 앞에 써주기"
      ]
    },
    {
      "cell_type": "code",
      "metadata": {
        "id": "BB8RGrsU4g3m"
      },
      "source": [
        "even = [i for i in mylist] "
      ],
      "execution_count": 32,
      "outputs": []
    },
    {
      "cell_type": "code",
      "metadata": {
        "id": "c96NbZer4xNP",
        "colab": {
          "base_uri": "https://localhost:8080/"
        },
        "outputId": "42b791b3-abbb-4898-a76f-780220f374d8"
      },
      "source": [
        "even"
      ],
      "execution_count": 33,
      "outputs": [
        {
          "output_type": "execute_result",
          "data": {
            "text/plain": [
              "[1, 2, 3, 4, 5, 6, 7, 8, 9, 10]"
            ]
          },
          "metadata": {
            "tags": []
          },
          "execution_count": 33
        }
      ]
    },
    {
      "cell_type": "markdown",
      "metadata": {
        "id": "1KsM88nu4xm3"
      },
      "source": [
        "### 1-3. [STEP 2] 조건 필터를 걸어주기"
      ]
    },
    {
      "cell_type": "code",
      "metadata": {
        "id": "oyoEi-wB46b9",
        "colab": {
          "base_uri": "https://localhost:8080/"
        },
        "outputId": "8ac49c0c-8018-43ce-a10b-6695cec6a7a0"
      },
      "source": [
        "even"
      ],
      "execution_count": 34,
      "outputs": [
        {
          "output_type": "execute_result",
          "data": {
            "text/plain": [
              "[1, 2, 3, 4, 5, 6, 7, 8, 9, 10]"
            ]
          },
          "metadata": {
            "tags": []
          },
          "execution_count": 34
        }
      ]
    },
    {
      "cell_type": "markdown",
      "metadata": {
        "id": "LjMHKjAz4_bd"
      },
      "source": [
        "[i for i in mylist (이곳에 조건문)]"
      ]
    },
    {
      "cell_type": "code",
      "metadata": {
        "id": "SAhBXVbK5Co0",
        "colab": {
          "base_uri": "https://localhost:8080/"
        },
        "outputId": "f6f728d7-e154-477b-d721-ee0c2d199735"
      },
      "source": [
        "[i for i in mylist if i % 2 ==0]"
      ],
      "execution_count": 35,
      "outputs": [
        {
          "output_type": "execute_result",
          "data": {
            "text/plain": [
              "[2, 4, 6, 8, 10]"
            ]
          },
          "metadata": {
            "tags": []
          },
          "execution_count": 35
        }
      ]
    },
    {
      "cell_type": "markdown",
      "metadata": {
        "id": "X8W6pRkz5NDW"
      },
      "source": [
        "이것을 변수에 다시 할당해주면 됨."
      ]
    },
    {
      "cell_type": "code",
      "metadata": {
        "id": "fmJlNLMO5PQr"
      },
      "source": [
        "even = [i for i in mylist if i % 2 ==0] "
      ],
      "execution_count": 36,
      "outputs": []
    },
    {
      "cell_type": "code",
      "metadata": {
        "id": "Rsa_eCak5adA",
        "colab": {
          "base_uri": "https://localhost:8080/"
        },
        "outputId": "49e9e155-854f-49f5-d8a8-a9d5c7909528"
      },
      "source": [
        "even"
      ],
      "execution_count": 37,
      "outputs": [
        {
          "output_type": "execute_result",
          "data": {
            "text/plain": [
              "[2, 4, 6, 8, 10]"
            ]
          },
          "metadata": {
            "tags": []
          },
          "execution_count": 37
        }
      ]
    },
    {
      "cell_type": "markdown",
      "metadata": {
        "id": "lYGfB5O05aj1"
      },
      "source": [
        "### 1-4. [응용 STEP] 변수 값을 가공할 수도 있음"
      ]
    },
    {
      "cell_type": "markdown",
      "metadata": {
        "id": "REj6ihGX5gPV"
      },
      "source": [
        "우선, 조건 필터는 배제하겠습니다."
      ]
    },
    {
      "cell_type": "code",
      "metadata": {
        "id": "MRlIoMbh5inm"
      },
      "source": [
        "even = [i for i in mylist] "
      ],
      "execution_count": 39,
      "outputs": []
    },
    {
      "cell_type": "code",
      "metadata": {
        "id": "YhnkRHIZ5kYv",
        "colab": {
          "base_uri": "https://localhost:8080/"
        },
        "outputId": "67bb3634-919a-41cb-d867-617d2f047304"
      },
      "source": [
        "even"
      ],
      "execution_count": 40,
      "outputs": [
        {
          "output_type": "execute_result",
          "data": {
            "text/plain": [
              "[1, 2, 3, 4, 5, 6, 7, 8, 9, 10]"
            ]
          },
          "metadata": {
            "tags": []
          },
          "execution_count": 40
        }
      ]
    },
    {
      "cell_type": "markdown",
      "metadata": {
        "id": "RG87dTvZ5lGm"
      },
      "source": [
        "even 리스트에 있는 모든 값에 +2를 해보도록 하겠습니다."
      ]
    },
    {
      "cell_type": "code",
      "metadata": {
        "id": "AMqXNzq05sQN"
      },
      "source": [
        "even = [i+2 for i in mylist] "
      ],
      "execution_count": 41,
      "outputs": []
    },
    {
      "cell_type": "code",
      "metadata": {
        "id": "G_SJMZvZ5vDt",
        "colab": {
          "base_uri": "https://localhost:8080/"
        },
        "outputId": "254b791b-e006-42f2-cb33-306cf6d38529"
      },
      "source": [
        "even"
      ],
      "execution_count": 42,
      "outputs": [
        {
          "output_type": "execute_result",
          "data": {
            "text/plain": [
              "[3, 4, 5, 6, 7, 8, 9, 10, 11, 12]"
            ]
          },
          "metadata": {
            "tags": []
          },
          "execution_count": 42
        }
      ]
    },
    {
      "cell_type": "code",
      "metadata": {
        "id": "3qRHEplUPxtI"
      },
      "source": [
        ""
      ],
      "execution_count": null,
      "outputs": []
    }
  ]
}
