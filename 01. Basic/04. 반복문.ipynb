{
  "nbformat": 4,
  "nbformat_minor": 0,
  "metadata": {
    "colab": {
      "name": "[실습]Ch05.python프로그래밍 - 06.반복문.ipynb",
      "provenance": [],
      "collapsed_sections": []
    },
    "kernelspec": {
      "name": "python3",
      "display_name": "Python 3"
    }
  },
  "cells": [
    {
      "cell_type": "markdown",
      "metadata": {
        "id": "GGwhVABx8Ucj"
      },
      "source": [
        "## 1. 반복문"
      ]
    },
    {
      "cell_type": "markdown",
      "metadata": {
        "id": "MPve6nk48nWY"
      },
      "source": [
        "* 반드시 list, dict, set 등 집합에 대한 순회를 돌며 일을 처리할 때"
      ]
    },
    {
      "cell_type": "code",
      "metadata": {
        "id": "r9jXJ8L49VLE"
      },
      "source": [
        "mylist = [1, 2, 3, 4, 5, 6, 7, 8, 9, 10]"
      ],
      "execution_count": 5,
      "outputs": []
    },
    {
      "cell_type": "markdown",
      "metadata": {
        "id": "1tqhcEyv9asJ"
      },
      "source": [
        "mylist에 들어 있는 모든 값들을 출력하려고 할 때"
      ]
    },
    {
      "cell_type": "code",
      "metadata": {
        "id": "JWqvzMQ-9gq_",
        "colab": {
          "base_uri": "https://localhost:8080/"
        },
        "outputId": "296fc435-9a1c-4a28-a45b-57d736e2a33e"
      },
      "source": [
        "print(mylist[0])\n",
        "print(mylist[1])\n",
        "print(mylist[2])\n",
        "print('...')\n",
        "print(mylist[8])\n",
        "print(mylist[9])"
      ],
      "execution_count": 6,
      "outputs": [
        {
          "output_type": "stream",
          "text": [
            "1\n",
            "2\n",
            "3\n",
            "...\n",
            "9\n",
            "10\n"
          ],
          "name": "stdout"
        }
      ]
    },
    {
      "cell_type": "markdown",
      "metadata": {
        "id": "D1NL7BS-9m0l"
      },
      "source": [
        "머리가 나쁘면 몸이 고생한다 ..."
      ]
    },
    {
      "cell_type": "markdown",
      "metadata": {
        "id": "2eRNROEc9vaB"
      },
      "source": [
        "## 2. for 와 in을 활용하자"
      ]
    },
    {
      "cell_type": "markdown",
      "metadata": {
        "id": "EmihJIWJ9zSI"
      },
      "source": [
        "**[문법]**<br>\n",
        "for 하나씩 꺼내올 때 변수 in [꺼내올 집합]"
      ]
    },
    {
      "cell_type": "code",
      "metadata": {
        "id": "iTlh4hYF-DnP"
      },
      "source": [
        "mylist = [1, 2, 3, 4, 5, 6, 7, 8, 9, 10]"
      ],
      "execution_count": 7,
      "outputs": []
    },
    {
      "cell_type": "code",
      "metadata": {
        "id": "qk2ljaev93th",
        "colab": {
          "base_uri": "https://localhost:8080/"
        },
        "outputId": "810b98a0-090c-4b98-8b8a-367e0c2097bc"
      },
      "source": [
        "for i in mylist:\n",
        "  print(i)"
      ],
      "execution_count": 8,
      "outputs": [
        {
          "output_type": "stream",
          "text": [
            "1\n",
            "2\n",
            "3\n",
            "4\n",
            "5\n",
            "6\n",
            "7\n",
            "8\n",
            "9\n",
            "10\n"
          ],
          "name": "stdout"
        }
      ]
    },
    {
      "cell_type": "markdown",
      "metadata": {
        "id": "-dT8rGyO-MP4"
      },
      "source": [
        "## 3. 반복문에서 짝수만 출력하려면?"
      ]
    },
    {
      "cell_type": "code",
      "metadata": {
        "id": "AltNBV5C-Pqt"
      }, 
      "source": [
        "mylist = [1, 2, 3, 4, 5, 6, 7, 8, 9, 10]"
      ],
      "execution_count": 9,
      "outputs": []
    },
    {
      "cell_type": "code",
      "metadata": {
        "id": "tnNU-Pa3-Th0",
        "colab": {
          "base_uri": "https://localhost:8080/"
        },
        "outputId": "9d5188ca-ca9a-47d5-ecb7-2af944b8c58c"
      },
      "source": [
        "for i in mylist:\n",
        "  if i%2 == 0:\n",
        "    print(i)"
      ],
      "execution_count": 10,
      "outputs": [
        {
          "output_type": "stream",
          "text": [
            "2\n",
            "4\n",
            "6\n",
            "8\n",
            "10\n"
          ],
          "name": "stdout"
        }
      ]
    },
    {
      "cell_type": "markdown",
      "metadata": {
        "id": "DGHNctqg-qnX"
      },
      "source": [
        "**continue** 라는 구문을 통해 아래 로직은 SKIP할 수 있음."
      ]
    },
    {
      "cell_type": "code",
      "metadata": {
        "id": "RWgPVawJ-jRT",
        "colab": {
          "base_uri": "https://localhost:8080/"
        },
        "outputId": "e2df9239-e318-414b-f1c7-2a295ccde522"
      },
      "source": [
        "for i in mylist:\n",
        "  if i%2 == 1:\n",
        "    continue\n",
        "  print(i)"
      ],
      "execution_count": 15,
      "outputs": [
        {
          "output_type": "stream",
          "text": [
            "2\n",
            "4\n",
            "6\n",
            "8\n",
            "10\n"
          ],
          "name": "stdout"
        }
      ]
    },
    {
      "cell_type": "markdown",
      "metadata": {
        "id": "xaDtUK2y-yRo"
      },
      "source": [
        "## 4. break로 조건에 해당하면 빠져나와보자!"
      ]
    },
    {
      "cell_type": "code",
      "metadata": {
        "id": "g8rLTYZg-2R7"
      },
      "source": [
        "mylist = [1, 2, 3, 4, 5, 6, 7, 8, 9, 10]"
      ],
      "execution_count": 16,
      "outputs": []
    },
    {
      "cell_type": "markdown",
      "metadata": {
        "id": "tGdZ0d1S-59J"
      },
      "source": [
        "i가 6 이상이면 STOP"
      ]
    },
    {
      "cell_type": "code",
      "metadata": {
        "id": "LyTOiLaC-4hd",
        "colab": {
          "base_uri": "https://localhost:8080/"
        },
        "outputId": "784c8b7f-b9ef-43dc-aca2-8f7ba1140325"
      },
      "source": [
        "for i in mylist:\n",
        "  if i >= 6:\n",
        "    break\n",
        "  print(i)"
      ],
      "execution_count": 17,
      "outputs": [
        {
          "output_type": "stream",
          "text": [
            "1\n",
            "2\n",
            "3\n",
            "4\n",
            "5\n"
          ],
          "name": "stdout"
        }
      ]
    }
  ]
}
