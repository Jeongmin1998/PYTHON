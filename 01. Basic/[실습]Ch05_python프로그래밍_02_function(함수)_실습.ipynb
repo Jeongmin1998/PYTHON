{
  "nbformat": 4,
  "nbformat_minor": 0,
  "metadata": {
    "colab": {
      "name": "[실습]Ch05_python프로그래밍 - 02_function(함수)_실습.ipynb",
      "provenance": [],
      "collapsed_sections": [],
      "toc_visible": true
    },
    "kernelspec": {
      "name": "python3",
      "display_name": "Python 3"
    }
  },
  "cells": [
    {
      "cell_type": "markdown",
      "metadata": {
        "id": "vOM7e6zujAZw"
      },
      "source": [
        "## 1. 함수\r\n"
      ]
    },
    {
      "cell_type": "markdown",
      "metadata": {
        "id": "ELm3GwkojNgP"
      },
      "source": [
        "반복적으로 사용되는 부분을 묶어서, **재사용 가능**하도록 만들어 주는 것"
      ]
    },
    {
      "cell_type": "code",
      "metadata": {
        "id": "HSBZ_AJCqPh9"
      },
      "source": [
        "a = 1\n",
        "b = 2\n",
        "c = 3"
      ],
      "execution_count": 1,
      "outputs": []
    },
    {
      "cell_type": "code",
      "metadata": {
        "id": "CrMppqW-jgtg",
        "colab": {
          "base_uri": "https://localhost:8080/"
        },
        "outputId": "0947c844-432b-4fe7-9c49-a46d39ef6710"
      },
      "source": [
        "(a+b)*c"
      ],
      "execution_count": 2,
      "outputs": [
        {
          "output_type": "execute_result",
          "data": {
            "text/plain": [
              "9"
            ]
          },
          "metadata": {
            "tags": []
          },
          "execution_count": 2
        }
      ]
    },
    {
      "cell_type": "code",
      "metadata": {
        "id": "eus2Sc3FqfJJ"
      },
      "source": [
        "a = 3\n",
        "b = 2\n",
        "c = 3"
      ],
      "execution_count": 4,
      "outputs": []
    },
    {
      "cell_type": "code",
      "metadata": {
        "id": "zv6CIbiuqgy-",
        "colab": {
          "base_uri": "https://localhost:8080/"
        },
        "outputId": "4f5a7938-a2cf-4257-c7d0-51c2dccca122"
      },
      "source": [
        "(a+b)*c"
      ],
      "execution_count": 5,
      "outputs": [
        {
          "output_type": "execute_result",
          "data": {
            "text/plain": [
              "15"
            ]
          },
          "metadata": {
            "tags": []
          },
          "execution_count": 5
        }
      ]
    },
    {
      "cell_type": "markdown",
      "metadata": {
        "id": "k3ZRnMTRqhJX"
      },
      "source": [
        "**함수로 변경했을 때**"
      ]
    },
    {
      "cell_type": "code",
      "metadata": {
        "id": "MubDprG4qlAm"
      },
      "source": [
        "def func(a, b, c):\n",
        "    return (a + b) * c"
      ],
      "execution_count": 6,
      "outputs": []
    },
    {
      "cell_type": "code",
      "metadata": {
        "id": "DtLSycwwqsF2",
        "colab": {
          "base_uri": "https://localhost:8080/"
        },
        "outputId": "8d48d445-8410-4dde-9b86-c913fbf26bf3"
      },
      "source": [
        "func(1,2,3)\n"
      ],
      "execution_count": 8,
      "outputs": [
        {
          "output_type": "execute_result",
          "data": {
            "text/plain": [
              "9"
            ]
          },
          "metadata": {
            "tags": []
          },
          "execution_count": 8
        }
      ]
    },
    {
      "cell_type": "code",
      "metadata": {
        "id": "ybJx3_SmqwJt",
        "colab": {
          "base_uri": "https://localhost:8080/"
        },
        "outputId": "2de07c35-ef1d-4798-8914-18510c2bd845"
      },
      "source": [
        "func(3,2,3)\n"
      ],
      "execution_count": 9,
      "outputs": [
        {
          "output_type": "execute_result",
          "data": {
            "text/plain": [
              "15"
            ]
          },
          "metadata": {
            "tags": []
          },
          "execution_count": 9
        }
      ]
    },
    {
      "cell_type": "markdown",
      "metadata": {
        "id": "xeVX7KpTdQpS"
      },
      "source": [
        "굉장히 간단해진다!"
      ]
    },
    {
      "cell_type": "markdown",
      "metadata": {
        "id": "V-RaMsPUq08R"
      },
      "source": [
        "## 2. def는 함수를 위한 정의 (define)"
      ]
    },
    {
      "cell_type": "markdown",
      "metadata": {
        "id": "ZOX4YXLJq4sn"
      },
      "source": [
        "def **함수이름** (parameter1, parameter2, parameter...)**:**"
      ]
    },
    {
      "cell_type": "markdown",
      "metadata": {
        "id": "ADFgrlUZsrJv"
      },
      "source": [
        "파라미터: 함수로부터 **넘겨 받은 변수 또는 값** "
      ]
    },
    {
      "cell_type": "markdown",
      "metadata": {
        "id": "qm3XAEVWrRSu"
      },
      "source": [
        "끝에 콜론 (:) 빼먹지 않기"
      ]
    },
    {
      "cell_type": "code",
      "metadata": {
        "id": "6Wih3mlYrAx7"
      },
      "source": [
        "def my_func(var1): #변수명은 아무거나 해주어도 됨\n",
        "    print(var1)"
      ],
      "execution_count": 10,
      "outputs": []
    },
    {
      "cell_type": "code",
      "metadata": {
        "id": "9Ez-rHvmrNDy",
        "colab": {
          "base_uri": "https://localhost:8080/"
        },
        "outputId": "81455198-9c9d-4c5c-d1e5-bb62d36ffb29"
      },
      "source": [
        "my_func('안녕하세요. 김정민입니다.')\n"
      ],
      "execution_count": 11,
      "outputs": [
        {
          "output_type": "stream",
          "text": [
            "안녕하세요. 김정민입니다.\n"
          ],
          "name": "stdout"
        }
      ]
    },
    {
      "cell_type": "markdown",
      "metadata": {
        "id": "vaOp0PuOrewg"
      },
      "source": [
        "1. my_func 함수 실행\n",
        "2. var1에 '테디입니다. 반갑습니다' 대입\n",
        "3. print(var1) 실행"
      ]
    },
    {
      "cell_type": "markdown",
      "metadata": {
        "id": "3RZu9VLnr097"
      },
      "source": [
        "## 3. 함수는 값을 리턴할 수 있고, 안해도 됨"
      ]
    },
    {
      "cell_type": "code",
      "metadata": {
        "id": "ztv_j8mMr6AN"
      },
      "source": [
        "def my_func(a, b):\n",
        "    print(a, b)"
      ],
      "execution_count": 12,
      "outputs": []
    },
    {
      "cell_type": "code",
      "metadata": {
        "id": "T-ClmPeusJna",
        "colab": {
          "base_uri": "https://localhost:8080/"
        },
        "outputId": "7db7318a-e6b4-4db3-9654-9e320c025272"
      },
      "source": [
        "my_func(1, 10)\n"
      ],
      "execution_count": 13,
      "outputs": [
        {
          "output_type": "stream",
          "text": [
            "1 10\n"
          ],
          "name": "stdout"
        }
      ]
    },
    {
      "cell_type": "markdown",
      "metadata": {
        "id": "WaCzCpFSr_Qp"
      },
      "source": [
        "리턴이 있는 경우"
      ]
    },
    {
      "cell_type": "code",
      "metadata": {
        "id": "FJW1Fk7QsCnF"
      },
      "source": [
        "def my_func(a, b):\n",
        "    s = a + b\n",
        "    return s"
      ],
      "execution_count": 14,
      "outputs": []
    },
    {
      "cell_type": "code",
      "metadata": {
        "id": "BSoWCYtlsH9q"
      },
      "source": [
        "result= my_func(1,10)"
      ],
      "execution_count": 15,
      "outputs": []
    },
    {
      "cell_type": "code",
      "metadata": {
        "id": "Z9cd47jY8BQu",
        "colab": {
          "base_uri": "https://localhost:8080/"
        },
        "outputId": "714ef902-567d-4550-d9ee-9d62f237b706"
      },
      "source": [
        "result"
      ],
      "execution_count": 16,
      "outputs": [
        {
          "output_type": "execute_result",
          "data": {
            "text/plain": [
              "11"
            ]
          },
          "metadata": {
            "tags": []
          },
          "execution_count": 16
        }
      ]
    },
    {
      "cell_type": "markdown",
      "metadata": {
        "id": "fGMa5m0XsRh9"
      },
      "source": [
        "리턴이 있는 경우는 변수에 값을 다시 할당 가능\r\n"
      ]
    },
    {
      "cell_type": "code",
      "metadata": {
        "id": "on0cREYssXX6"
      },
      "source": [
        "ret = my_func(1, 10)"
      ],
      "execution_count": 17,
      "outputs": []
    },
    {
      "cell_type": "code",
      "metadata": {
        "id": "8IvZIcnusZqF",
        "colab": {
          "base_uri": "https://localhost:8080/"
        },
        "outputId": "e5409a7d-4b77-4010-825c-be78a24085a2"
      },
      "source": [
        "print(ret)"
      ],
      "execution_count": 18,
      "outputs": [
        {
          "output_type": "stream",
          "text": [
            "11\n"
          ],
          "name": "stdout"
        }
      ]
    },
    {
      "cell_type": "code",
      "metadata": {
        "id": "_2ISL_gusaxr",
        "colab": {
          "base_uri": "https://localhost:8080/"
        },
        "outputId": "0d22d691-21e2-4cf1-a969-18de9ee895d1"
      },
      "source": [
        "print(ret + 10)"
      ],
      "execution_count": 19,
      "outputs": [
        {
          "output_type": "stream",
          "text": [
            "21\n"
          ],
          "name": "stdout"
        }
      ]
    }
  ]
}