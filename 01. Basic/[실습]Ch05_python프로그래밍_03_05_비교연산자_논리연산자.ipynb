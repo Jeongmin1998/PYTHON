{
  "nbformat": 4,
  "nbformat_minor": 0,
  "metadata": {
    "colab": {
      "name": "[실습]Ch05.python프로그래밍 - 03~05.비교연산자~논리연산자.ipynb",
      "provenance": [],
      "collapsed_sections": []
    },
    "kernelspec": {
      "name": "python3",
      "display_name": "Python 3"
    }
  },
  "cells": [
    {
      "cell_type": "markdown",
      "metadata": {
        "id": "mkSnBW98EIs-"
      },
      "source": [
        "## 1. 비교연산자"
      ]
    },
    {
      "cell_type": "markdown",
      "metadata": {
        "id": "ngUCWVY_EsY0"
      },
      "source": [
        "비교 연산자는 대소비교를 할 때 주로 사용."
      ]
    },
    {
      "cell_type": "markdown",
      "metadata": {
        "id": "HEG6iuONEswX"
      },
      "source": [
        "### 1-1. 대소비교 >, >=, <, <="
      ]
    },
    {
      "cell_type": "markdown",
      "metadata": {
        "id": "m1qRDU2-RGv0"
      },
      "source": [
        "아래의 출력 결과와 동일한 값이 나오도록 조건문에 값을 입력해 주세요"
      ]
    },
    {
      "cell_type": "code",
      "metadata": {
        "id": "wiLgE47fEs1S",
        "colab": {
          "base_uri": "https://localhost:8080/"
        },
        "outputId": "67779f60-2251-4988-8cc5-38727511cfcb"
      },
      "source": [
        "1 > 2 "
      ],
      "execution_count": 1,
      "outputs": [
        {
          "output_type": "execute_result",
          "data": {
            "text/plain": [
              "False"
            ]
          },
          "metadata": {
            "tags": []
          },
          "execution_count": 1
        }
      ]
    },
    {
      "cell_type": "code",
      "metadata": {
        "id": "0b6l023CEs5o",
        "colab": {
          "base_uri": "https://localhost:8080/"
        },
        "outputId": "a02b640a-0008-49c5-cc20-581645a9723c"
      },
      "source": [
        "10 >= 10"
      ],
      "execution_count": 2,
      "outputs": [
        {
          "output_type": "execute_result",
          "data": {
            "text/plain": [
              "True"
            ]
          },
          "metadata": {
            "tags": []
          },
          "execution_count": 2
        }
      ]
    },
    {
      "cell_type": "markdown",
      "metadata": {
        "id": "YnFEo5W4FBQV"
      },
      "source": [
        "### 1-2. 같다 =="
      ]
    },
    {
      "cell_type": "markdown",
      "metadata": {
        "id": "c9JH4zBNFBGf"
      },
      "source": [
        "'='은 대입 연산자"
      ]
    },
    {
      "cell_type": "code",
      "metadata": {
        "id": "lCnEQx-KFA_R",
        "colab": {
          "base_uri": "https://localhost:8080/"
        },
        "outputId": "aeecfa04-4973-4c1c-c65a-b834624bc395"
      },
      "source": [
        "2 == 2"
      ],
      "execution_count": 3,
      "outputs": [
        {
          "output_type": "execute_result",
          "data": {
            "text/plain": [
              "True"
            ]
          },
          "metadata": {
            "tags": []
          },
          "execution_count": 3
        }
      ]
    },
    {
      "cell_type": "code",
      "metadata": {
        "id": "uu38fqhwOv_t",
        "colab": {
          "base_uri": "https://localhost:8080/"
        },
        "outputId": "86ba5e64-21b2-4125-c0d2-747ca7067b7b"
      },
      "source": [
        "2 == 4"
      ],
      "execution_count": 4,
      "outputs": [
        {
          "output_type": "execute_result",
          "data": {
            "text/plain": [
              "False"
            ]
          },
          "metadata": {
            "tags": []
          },
          "execution_count": 4
        }
      ]
    },
    {
      "cell_type": "markdown",
      "metadata": {
        "id": "J8S0jzfGFKLz"
      },
      "source": [
        "### 1-3. 같지 않다 !="
      ]
    },
    {
      "cell_type": "code",
      "metadata": {
        "id": "FN2gAfWMFKRy",
        "colab": {
          "base_uri": "https://localhost:8080/"
        },
        "outputId": "1286459c-9d0e-438a-effc-7dd14e0f4b8e"
      },
      "source": [
        "2 != 2"
      ],
      "execution_count": 5,
      "outputs": [
        {
          "output_type": "execute_result",
          "data": {
            "text/plain": [
              "False"
            ]
          },
          "metadata": {
            "tags": []
          },
          "execution_count": 5
        }
      ]
    },
    {
      "cell_type": "code",
      "metadata": {
        "id": "FVrNPEq7FKZk",
        "colab": {
          "base_uri": "https://localhost:8080/"
        },
        "outputId": "40c9456e-38ae-4739-c1e8-181eaa0ad66c"
      },
      "source": [
        "1 != 3"
      ],
      "execution_count": 6,
      "outputs": [
        {
          "output_type": "execute_result",
          "data": {
            "text/plain": [
              "True"
            ]
          },
          "metadata": {
            "tags": []
          },
          "execution_count": 6
        }
      ]
    },
    {
      "cell_type": "code",
      "metadata": {
        "id": "cjB7v1JiFc78",
        "colab": {
          "base_uri": "https://localhost:8080/"
        },
        "outputId": "b79fad57-540a-4f63-95d0-0bdad8d4ece2"
      },
      "source": [
        "'나' != '너'"
      ],
      "execution_count": 7,
      "outputs": [
        {
          "output_type": "execute_result",
          "data": {
            "text/plain": [
              "True"
            ]
          },
          "metadata": {
            "tags": []
          },
          "execution_count": 7
        }
      ]
    },
    {
      "cell_type": "code",
      "metadata": {
        "id": "7b47rVKRFcuZ",
        "colab": {
          "base_uri": "https://localhost:8080/"
        },
        "outputId": "320ad0cb-139b-4194-ce53-9dbbac2a7703"
      },
      "source": [
        "'나' != '나'"
      ],
      "execution_count": 8,
      "outputs": [
        {
          "output_type": "execute_result",
          "data": {
            "text/plain": [
              "False"
            ]
          },
          "metadata": {
            "tags": []
          },
          "execution_count": 8
        }
      ]
    },
    {
      "cell_type": "markdown",
      "metadata": {
        "id": "nVJ1deTbACiP"
      },
      "source": [
        "## 2. 조건문\n"
      ]
    },
    {
      "cell_type": "markdown",
      "metadata": {
        "id": "DUrQsRomElox"
      },
      "source": [
        "주어진 조건이 **참**인 경우 그 다음 내가 정한 규칙(로직)을 실행"
      ]
    },
    {
      "cell_type": "markdown",
      "metadata": {
        "id": "eyntgHbrAJW2"
      },
      "source": [
        "### 2-1. if"
      ]
    },
    {
      "cell_type": "markdown",
      "metadata": {
        "id": "x2CRKxQoAeOR"
      },
      "source": [
        "if 구문 끝에는 반드시 콜론(:)"
      ]
    },
    {
      "cell_type": "code",
      "metadata": {
        "id": "tNkI-ROGAPPz",
        "colab": {
          "base_uri": "https://localhost:8080/"
        },
        "outputId": "1ec6421c-c847-4d75-d9cb-28023da439f4"
      },
      "source": [
        "if 5 > 3:\n",
        "    print('참')"
      ],
      "execution_count": 9,
      "outputs": [
        {
          "output_type": "stream",
          "text": [
            "참\n"
          ],
          "name": "stdout"
        }
      ]
    },
    {
      "cell_type": "code",
      "metadata": {
        "id": "udUZJO19Ngk3",
        "colab": {
          "base_uri": "https://localhost:8080/"
        },
        "outputId": "ee0f2085-4a7c-4069-fc9a-fd973f71a0c4"
      },
      "source": [
        "if 5 < 3:\n",
        "    print('참')\n",
        "    print('참')\n",
        "    print('참')\n",
        "    print('참')\n",
        "\n",
        "print('끝') #indent 없는 부분은 if에 적용 X"
      ],
      "execution_count": 10,
      "outputs": [
        {
          "output_type": "stream",
          "text": [
            "끝\n"
          ],
          "name": "stdout"
        }
      ]
    },
    {
      "cell_type": "markdown",
      "metadata": {
        "id": "vTqQGfv5Ac4a"
      },
      "source": [
        "### 2-2. else"
      ]
    },
    {
      "cell_type": "markdown",
      "metadata": {
        "id": "EzJHdesGAjTQ"
      },
      "source": [
        "else는 if 조건 후에 따라오며, if 가 아닌 경우에 실행"
      ]
    },
    {
      "cell_type": "code",
      "metadata": {
        "id": "DsGowvtQAq6B",
        "colab": {
          "base_uri": "https://localhost:8080/"
        },
        "outputId": "e092a284-066c-42b6-88f5-d90548aedcde"
      },
      "source": [
        "if 5 < 3:\n",
        "    print('if 구문 실행')\n",
        "else:\n",
        "    print('else 구문 실행')"
      ],
      "execution_count": 11,
      "outputs": [
        {
          "output_type": "stream",
          "text": [
            "else 구문 실행\n"
          ],
          "name": "stdout"
        }
      ]
    },
    {
      "cell_type": "markdown",
      "metadata": {
        "id": "YRckrfc3DSsM"
      },
      "source": [
        "### 2-3. elif"
      ]
    },
    {
      "cell_type": "markdown",
      "metadata": {
        "id": "LS8DofkNDWUS"
      },
      "source": [
        "elif 구문은 3가지 이상 분기 (조건)의 동작을 수행할 때 \n"
      ]
    },
    {
      "cell_type": "code",
      "metadata": {
        "id": "j6-32b6TDeNM",
        "colab": {
          "base_uri": "https://localhost:8080/"
        },
        "outputId": "8ff20613-aed6-4e73-c83e-006f4c784102"
      },
      "source": [
        "if 3 > 5:\n",
        "    print('if 구문')\n",
        "elif 3 < 4:\n",
        "    print('elif 구문')\n",
        "else:\n",
        "    print('이것도 저것도 아니다')"
      ],
      "execution_count": 12,
      "outputs": [
        {
          "output_type": "stream",
          "text": [
            "elif 구문\n"
          ],
          "name": "stdout"
        }
      ]
    },
    {
      "cell_type": "markdown",
      "metadata": {
        "id": "kj9j--pEDzum"
      },
      "source": [
        "그럼, **elif 구문이 참인 여러 구문**을 나열 했을 때?\n",
        ": 제일 처음 참인 것만\n"
      ]
    },
    {
      "cell_type": "code",
      "metadata": {
        "id": "CoA1nNx4DttN",
        "colab": {
          "base_uri": "https://localhost:8080/"
        },
        "outputId": "ab6576c0-74da-43f9-9e18-855e19c44995"
      },
      "source": [
        "if 3 > 5: \n",
        "    print('if 구문')\n",
        "elif 3 > 4:\n",
        "    print('elif 1 구문')\n",
        "elif 3 < 5:\n",
        "    print('elif 2 구문')\n",
        "elif 3 < 6:\n",
        "    print('elif 3 구문')\n",
        "else:\n",
        "    print('이것도 저것도 아니다')"
      ],
      "execution_count": 14,
      "outputs": [
        {
          "output_type": "stream",
          "text": [
            "elif 2 구문\n"
          ],
          "name": "stdout"
        }
      ]
    },
    {
      "cell_type": "markdown",
      "metadata": {
        "id": "IH3OU9JEGL2C"
      },
      "source": [
        "### 2-4. 1 이나 0은 참 이나 거짓을 표현하기도 함"
      ]
    },
    {
      "cell_type": "code",
      "metadata": {
        "id": "QvLPbzLSGLqz",
        "colab": {
          "base_uri": "https://localhost:8080/"
        },
        "outputId": "46483448-a270-458f-d1a2-52eb648f932c"
      },
      "source": [
        "if 1:\n",
        "    print('참')\n",
        "else:\n",
        "    print('거짓')"
      ],
      "execution_count": 15,
      "outputs": [
        {
          "output_type": "stream",
          "text": [
            "참\n"
          ],
          "name": "stdout"
        }
      ]
    },
    {
      "cell_type": "code",
      "metadata": {
        "id": "nZaec2FMGV36",
        "colab": {
          "base_uri": "https://localhost:8080/"
        },
        "outputId": "0a92d68b-f2c3-41db-adad-6b228f051e28"
      },
      "source": [
        "if 0:\n",
        "    print('참')\n",
        "else:\n",
        "    print('거짓')"
      ],
      "execution_count": 16,
      "outputs": [
        {
          "output_type": "stream",
          "text": [
            "거짓\n"
          ],
          "name": "stdout"
        }
      ]
    },
    {
      "cell_type": "markdown",
      "metadata": {
        "id": "UkBFrQ99EIlN"
      },
      "source": [
        "## 3. 논리 연산자 (and, or)"
      ]
    },
    {
      "cell_type": "markdown",
      "metadata": {
        "id": "JArIvFX7F4xv"
      },
      "source": [
        "**and**나 **or** 조건은 두 가지 이상 조건을 다룰 때"
      ]
    },
    {
      "cell_type": "markdown",
      "metadata": {
        "id": "1r39VMGsF_e4"
      },
      "source": [
        "### 3-1. and "
      ]
    },
    {
      "cell_type": "markdown",
      "metadata": {
        "id": "Rpmwyz4UGbHf"
      },
      "source": [
        "and 조건은 **모두 만족**할 때 참으로 인식."
      ]
    },
    {
      "cell_type": "code",
      "metadata": {
        "id": "1ZjfDRh3GJwz",
        "colab": {
          "base_uri": "https://localhost:8080/"
        },
        "outputId": "27ef13da-69e3-40d9-e800-878af13019c6"
      },
      "source": [
        "if (0 < 1) and (0 < 2):\n",
        "    print('모두 참')\n",
        "else:\n",
        "    print('거짓')"
      ],
      "execution_count": 19,
      "outputs": [
        {
          "output_type": "stream",
          "text": [
            "모두 참\n"
          ],
          "name": "stdout"
        }
      ]
    },
    {
      "cell_type": "code",
      "metadata": {
        "id": "cuHoVgi5GvVy",
        "colab": {
          "base_uri": "https://localhost:8080/"
        },
        "outputId": "d90e6eae-522c-41fe-ccbb-67291042ccd4"
      },
      "source": [
        "if (0 < 1) and (0 > 2):\n",
        "    print('모두 참')\n",
        "else:\n",
        "    print('허참')"
      ],
      "execution_count": 20,
      "outputs": [
        {
          "output_type": "stream",
          "text": [
            "허참\n"
          ],
          "name": "stdout"
        }
      ]
    },
    {
      "cell_type": "markdown",
      "metadata": {
        "id": "LpFTEajiGxRN"
      },
      "source": [
        "### 3-2. or"
      ]
    },
    {
      "cell_type": "markdown",
      "metadata": {
        "id": "m9CzrDMhG1SM"
      },
      "source": [
        "or 조건은 조건 중 **하나라도 만족**할 때 참으로 인식."
      ]
    },
    {
      "cell_type": "code",
      "metadata": {
        "id": "pCiPRf0FHBhx",
        "colab": {
          "base_uri": "https://localhost:8080/"
        },
        "outputId": "c7723a78-0bd2-4406-b3c1-fac5e5e3daa4"
      },
      "source": [
        "if (0 < 1) or ( 1 < 0):\n",
        "    print('하나라도 참')\n",
        "else:\n",
        "    print('허참')"
      ],
      "execution_count": 21,
      "outputs": [
        {
          "output_type": "stream",
          "text": [
            "하나라도 참\n"
          ],
          "name": "stdout"
        }
      ]
    },
    {
      "cell_type": "code",
      "metadata": {
        "id": "IXQSEQYjHKRz",
        "colab": {
          "base_uri": "https://localhost:8080/"
        },
        "outputId": "3b80dc7a-01ea-4d43-ed52-68ef07820805"
      },
      "source": [
        "if (10 < 1) or ( 1 < 0):\n",
        "    print('하나라도 참')\n",
        "else:\n",
        "    print('허참')"
      ],
      "execution_count": 22,
      "outputs": [
        {
          "output_type": "stream",
          "text": [
            "허참\n"
          ],
          "name": "stdout"
        }
      ]
    }
  ]
}