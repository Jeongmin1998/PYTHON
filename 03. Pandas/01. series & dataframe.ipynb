
{
  "nbformat": 4,
  "nbformat_minor": 0,
  "metadata": {
    "colab": {
      "name": "[실습]Ch01.pandas - 02.series와dataframe.ipynb",
      "provenance": [],
      "collapsed_sections": []
    },
    "kernelspec": {
      "name": "python3",
      "display_name": "Python 3"
    }
  },
  "cells": [
    {
      "cell_type": "markdown",
      "metadata": {
        "id": "jgI2U66T0I32"
      },
      "source": [
        "## 1. pandas 패키지 로드\r\n",
        "\r\n",
        "pands: 데이터분석을 위한 패키지"
      ]
    },
    {
      "cell_type": "code",
      "metadata": {
        "id": "40RAWO0_JYUR"
      },
      "source": [
        "import pandas as pd"
      ],
      "execution_count": 3,
      "outputs": []
    },
    {
      "cell_type": "markdown",
      "metadata": {
        "id": "hFHdDWBgJibu"
      },
      "source": [
        "## 2. pandas 의 Series 와 DataFrame"
      ]
    },
    {
      "cell_type": "markdown",
      "metadata": {
        "id": "goWOoCaKJm8X"
      },
      "source": [
        "1차원, 1개의 column은 Series  \r\n",
        "dataframe에는 여러 series가 있음"
      ]
    },
    {
      "cell_type": "markdown",
      "metadata": {
        "id": "gcoGM9bGJqqq"
      },
      "source": [
        "### 2-1. Series\r\n",
        "1차원으로 이루어진 데이터 배열"
      ]
    },
    {
      "cell_type": "code",
      "metadata": {
        "id": "AsvUXs-sJxia",
        "colab": {
          "base_uri": "https://localhost:8080/"
        },
        "outputId": "aea606ac-66d7-4c23-f7e8-2d874f62a2d0"
      },
      "source": [
        "pd.Series([1,2,3,4]) #list를 넣어주면 됨"
      ],
      "execution_count": 5,
      "outputs": [
        {
          "output_type": "execute_result",
          "data": {
            "text/plain": [
              "0    1\n",
              "1    2\n",
              "2    3\n",
              "3    4\n",
              "dtype: int64"
            ]
          },
          "metadata": {
            "tags": []
          },
          "execution_count": 5
        }
      ]
    },
    {
      "cell_type": "code",
      "metadata": {
        "id": "JoyKvP4nk0CX"
      },
      "source": [
        "a = [1, 2, 3, 4]"
      ],
      "execution_count": 6,
      "outputs": []
    },
    {
      "cell_type": "code",
      "metadata": {
        "id": "KPeX-9pJk1m4",
        "colab": {
          "base_uri": "https://localhost:8080/"
        },
        "outputId": "388d99bb-3996-4748-c093-ea6ec3b53e34"
      },
      "source": [
        "pd.Series(a)"
      ],
      "execution_count": 7,
      "outputs": [
        {
          "output_type": "execute_result",
          "data": {
            "text/plain": [
              "0    1\n",
              "1    2\n",
              "2    3\n",
              "3    4\n",
              "dtype: int64"
            ]
          },
          "metadata": {
            "tags": []
          },
          "execution_count": 7
        }
      ]
    },
    {
      "cell_type": "markdown",
      "metadata": {
        "id": "f6stlZ_TJwgL"
      },
      "source": [
        "### 2-2. DataFrame\r\n",
        "\r\n",
        "2차원으로 이루어진 데이터 배열"
      ]
    },
    {
      "cell_type": "markdown",
      "metadata": {
        "id": "C_TZQqGT8KIp"
      },
      "source": [
        "#### 방법 1. list로 만들기"
      ]
    },
    {
      "cell_type": "code",
      "metadata": {
        "id": "lDGGTxZ45Fvm"
      },
      "source": [
        "company1 = [['삼성', 2000, '스마트폰'],\n",
        "           ['현대', 1000, '자동차'],\n",
        "           ['네이버', 500, '포털']]"
      ],
      "execution_count": 8,
      "outputs": []
    },
    {
      "cell_type": "code",
      "metadata": {
        "id": "4BZpUmU66t3Z",
        "colab": {
          "base_uri": "https://localhost:8080/",
          "height": 139
        },
        "outputId": "b6c18077-f889-46ec-bc99-1879395d2b92"
      },
      "source": [
        "pd.DataFrame(company1)"
      ],
      "execution_count": 9,
      "outputs": [
        {
          "output_type": "execute_result",
          "data": {
            "text/html": [
              "<div>\n",
              "<style scoped>\n",
              "    .dataframe tbody tr th:only-of-type {\n",
              "        vertical-align: middle;\n",
              "    }\n",
              "\n",
              "    .dataframe tbody tr th {\n",
              "        vertical-align: top;\n",
              "    }\n",
              "\n",
              "    .dataframe thead th {\n",
              "        text-align: right;\n",
              "    }\n",
              "</style>\n",
              "<table border=\"1\" class=\"dataframe\">\n",
              "  <thead>\n",
              "    <tr style=\"text-align: right;\">\n",
              "      <th></th>\n",
              "      <th>0</th>\n",
              "      <th>1</th>\n",
              "      <th>2</th>\n",
              "    </tr>\n",
              "  </thead>\n",
              "  <tbody>\n",
              "    <tr>\n",
              "      <th>0</th>\n",
              "      <td>삼성</td>\n",
              "      <td>2000</td>\n",
              "      <td>스마트폰</td>\n",
              "    </tr>\n",
              "    <tr>\n",
              "      <th>1</th>\n",
              "      <td>현대</td>\n",
              "      <td>1000</td>\n",
              "      <td>자동차</td>\n",
              "    </tr>\n",
              "    <tr>\n",
              "      <th>2</th>\n",
              "      <td>네이버</td>\n",
              "      <td>500</td>\n",
              "      <td>포털</td>\n",
              "    </tr>\n",
              "  </tbody>\n",
              "</table>\n",
              "</div>"
            ],
            "text/plain": [
              "     0     1     2\n",
              "0   삼성  2000  스마트폰\n",
              "1   현대  1000   자동차\n",
              "2  네이버   500    포털"
            ]
          },
          "metadata": {
            "tags": []
          },
          "execution_count": 9
        }
      ]
    },
    {
      "cell_type": "code",
      "metadata": {
        "id": "2urfAkZD69JZ"
      },
      "source": [
        "df1 = pd.DataFrame(company1) #활용을 위해 변수에 담아주기\n"
      ],
      "execution_count": 10,
      "outputs": []
    },
    {
      "cell_type": "code",
      "metadata": {
        "id": "WC8MXR-27DZ6",
        "colab": {
          "base_uri": "https://localhost:8080/",
          "height": 139
        },
        "outputId": "b669fd25-d631-4cc2-b874-816c8bf2174c"
      },
      "source": [
        "df1"
      ],
      "execution_count": 11,
      "outputs": [
        {
          "output_type": "execute_result",
          "data": {
            "text/html": [
              "<div>\n",
              "<style scoped>\n",
              "    .dataframe tbody tr th:only-of-type {\n",
              "        vertical-align: middle;\n",
              "    }\n",
              "\n",
              "    .dataframe tbody tr th {\n",
              "        vertical-align: top;\n",
              "    }\n",
              "\n",
              "    .dataframe thead th {\n",
              "        text-align: right;\n",
              "    }\n",
              "</style>\n",
              "<table border=\"1\" class=\"dataframe\">\n",
              "  <thead>\n",
              "    <tr style=\"text-align: right;\">\n",
              "      <th></th>\n",
              "      <th>0</th>\n",
              "      <th>1</th>\n",
              "      <th>2</th>\n",
              "    </tr>\n",
              "  </thead>\n",
              "  <tbody>\n",
              "    <tr>\n",
              "      <th>0</th>\n",
              "      <td>삼성</td>\n",
              "      <td>2000</td>\n",
              "      <td>스마트폰</td>\n",
              "    </tr>\n",
              "    <tr>\n",
              "      <th>1</th>\n",
              "      <td>현대</td>\n",
              "      <td>1000</td>\n",
              "      <td>자동차</td>\n",
              "    </tr>\n",
              "    <tr>\n",
              "      <th>2</th>\n",
              "      <td>네이버</td>\n",
              "      <td>500</td>\n",
              "      <td>포털</td>\n",
              "    </tr>\n",
              "  </tbody>\n",
              "</table>\n",
              "</div>"
            ],
            "text/plain": [
              "     0     1     2\n",
              "0   삼성  2000  스마트폰\n",
              "1   현대  1000   자동차\n",
              "2  네이버   500    포털"
            ]
          },
          "metadata": {
            "tags": []
          },
          "execution_count": 11
        }
      ]
    },
    {
      "cell_type": "markdown",
      "metadata": {
        "id": "awNbOxc48dwa"
      },
      "source": [
        "#### 제목컬럼 만들기"
      ]
    },
    {
      "cell_type": "code",
      "metadata": {
        "id": "IUrvtees8c4g"
      },
      "source": [
        "df1.columns = ['기업명', '매출액', '업종']\n"
      ],
      "execution_count": 12,
      "outputs": []
    },
    {
      "cell_type": "code",
      "metadata": {
        "id": "IjYjnvjv8gbQ",
        "colab": {
          "base_uri": "https://localhost:8080/",
          "height": 139
        },
        "outputId": "9d956ae8-8144-4614-cce2-f13ae8624a70"
      },
      "source": [
        "df1"
      ],
      "execution_count": 13,
      "outputs": [
        {
          "output_type": "execute_result",
          "data": {
            "text/html": [
              "<div>\n",
              "<style scoped>\n",
              "    .dataframe tbody tr th:only-of-type {\n",
              "        vertical-align: middle;\n",
              "    }\n",
              "\n",
              "    .dataframe tbody tr th {\n",
              "        vertical-align: top;\n",
              "    }\n",
              "\n",
              "    .dataframe thead th {\n",
              "        text-align: right;\n",
              "    }\n",
              "</style>\n",
              "<table border=\"1\" class=\"dataframe\">\n",
              "  <thead>\n",
              "    <tr style=\"text-align: right;\">\n",
              "      <th></th>\n",
              "      <th>기업명</th>\n",
              "      <th>매출액</th>\n",
              "      <th>업종</th>\n",
              "    </tr>\n",
              "  </thead>\n",
              "  <tbody>\n",
              "    <tr>\n",
              "      <th>0</th>\n",
              "      <td>삼성</td>\n",
              "      <td>2000</td>\n",
              "      <td>스마트폰</td>\n",
              "    </tr>\n",
              "    <tr>\n",
              "      <th>1</th>\n",
              "      <td>현대</td>\n",
              "      <td>1000</td>\n",
              "      <td>자동차</td>\n",
              "    </tr>\n",
              "    <tr>\n",
              "      <th>2</th>\n",
              "      <td>네이버</td>\n",
              "      <td>500</td>\n",
              "      <td>포털</td>\n",
              "    </tr>\n",
              "  </tbody>\n",
              "</table>\n",
              "</div>"
            ],
            "text/plain": [
              "   기업명   매출액    업종\n",
              "0   삼성  2000  스마트폰\n",
              "1   현대  1000   자동차\n",
              "2  네이버   500    포털"
            ]
          },
          "metadata": {
            "tags": []
          },
          "execution_count": 13
        }
      ]
    },
    {
      "cell_type": "markdown",
      "metadata": {
        "id": "8rtUnSSk8QpC"
      },
      "source": [
        "#### 방법 2. dict로 만들기\r\n",
        "key, value로"
      ]
    },
    {
      "cell_type": "code",
      "metadata": {
        "id": "q07W6AKx8Q0w"
      },
      "source": [
        "company2 = {'기업명':['삼성', '현대', '네이버'], \n",
        "            '매출액': [2000, 1000, 500], \n",
        "            '업종': ['스마트폰', '자동차', '포털']\n",
        "           }"
      ],
      "execution_count": 15,
      "outputs": []
    },
    {
      "cell_type": "code",
      "metadata": {
        "id": "XjkQ3FAa8WIY"
      },
      "source": [
        "df2 = pd.DataFrame(company2)\n"
      ],
      "execution_count": 17,
      "outputs": []
    },
    {
      "cell_type": "code",
      "metadata": {
        "id": "anyHokEx8mYu",
        "colab": {
          "base_uri": "https://localhost:8080/",
          "height": 139
        },
        "outputId": "fe306a68-8468-4f4a-ea87-72aeab00bca3"
      },
      "source": [
        "df2"
      ],
      "execution_count": 18,
      "outputs": [
        {
          "output_type": "execute_result",
          "data": {
            "text/html": [
              "<div>\n",
              "<style scoped>\n",
              "    .dataframe tbody tr th:only-of-type {\n",
              "        vertical-align: middle;\n",
              "    }\n",
              "\n",
              "    .dataframe tbody tr th {\n",
              "        vertical-align: top;\n",
              "    }\n",
              "\n",
              "    .dataframe thead th {\n",
              "        text-align: right;\n",
              "    }\n",
              "</style>\n",
              "<table border=\"1\" class=\"dataframe\">\n",
              "  <thead>\n",
              "    <tr style=\"text-align: right;\">\n",
              "      <th></th>\n",
              "      <th>기업명</th>\n",
              "      <th>매출액</th>\n",
              "      <th>업종</th>\n",
              "    </tr>\n",
              "  </thead>\n",
              "  <tbody>\n",
              "    <tr>\n",
              "      <th>0</th>\n",
              "      <td>삼성</td>\n",
              "      <td>2000</td>\n",
              "      <td>스마트폰</td>\n",
              "    </tr>\n",
              "    <tr>\n",
              "      <th>1</th>\n",
              "      <td>현대</td>\n",
              "      <td>1000</td>\n",
              "      <td>자동차</td>\n",
              "    </tr>\n",
              "    <tr>\n",
              "      <th>2</th>\n",
              "      <td>네이버</td>\n",
              "      <td>500</td>\n",
              "      <td>포털</td>\n",
              "    </tr>\n",
              "  </tbody>\n",
              "</table>\n",
              "</div>"
            ],
            "text/plain": [
              "   기업명   매출액    업종\n",
              "0   삼성  2000  스마트폰\n",
              "1   현대  1000   자동차\n",
              "2  네이버   500    포털"
            ]
          },
          "metadata": {
            "tags": []
          },
          "execution_count": 18
        }
      ]
    },
    {
      "cell_type": "markdown",
      "metadata": {
        "id": "ezhPULPP7hCc"
      },
      "source": [
        "#### index를 특정 column으로 지정하기"
      ]
    },
    {
      "cell_type": "code",
      "metadata": {
        "id": "8X_6mbNX9IG4",
        "colab": {
          "base_uri": "https://localhost:8080/",
          "height": 139
        },
        "outputId": "7b060c34-f9e1-4987-9591-66ab85fe604b"
      },
      "source": [
        "df1"
      ],
      "execution_count": 19,
      "outputs": [
        {
          "output_type": "execute_result",
          "data": {
            "text/html": [
              "<div>\n",
              "<style scoped>\n",
              "    .dataframe tbody tr th:only-of-type {\n",
              "        vertical-align: middle;\n",
              "    }\n",
              "\n",
              "    .dataframe tbody tr th {\n",
              "        vertical-align: top;\n",
              "    }\n",
              "\n",
              "    .dataframe thead th {\n",
              "        text-align: right;\n",
              "    }\n",
              "</style>\n",
              "<table border=\"1\" class=\"dataframe\">\n",
              "  <thead>\n",
              "    <tr style=\"text-align: right;\">\n",
              "      <th></th>\n",
              "      <th>기업명</th>\n",
              "      <th>매출액</th>\n",
              "      <th>업종</th>\n",
              "    </tr>\n",
              "  </thead>\n",
              "  <tbody>\n",
              "    <tr>\n",
              "      <th>0</th>\n",
              "      <td>삼성</td>\n",
              "      <td>2000</td>\n",
              "      <td>스마트폰</td>\n",
              "    </tr>\n",
              "    <tr>\n",
              "      <th>1</th>\n",
              "      <td>현대</td>\n",
              "      <td>1000</td>\n",
              "      <td>자동차</td>\n",
              "    </tr>\n",
              "    <tr>\n",
              "      <th>2</th>\n",
              "      <td>네이버</td>\n",
              "      <td>500</td>\n",
              "      <td>포털</td>\n",
              "    </tr>\n",
              "  </tbody>\n",
              "</table>\n",
              "</div>"
            ],
            "text/plain": [
              "   기업명   매출액    업종\n",
              "0   삼성  2000  스마트폰\n",
              "1   현대  1000   자동차\n",
              "2  네이버   500    포털"
            ]
          },
          "metadata": {
            "tags": []
          },
          "execution_count": 19
        }
      ]
    },
    {
      "cell_type": "code",
      "metadata": {
        "id": "AOyZzJ9t7JNV"
      },
      "source": [
        "df1.index = df1['기업명']\n"
      ],
      "execution_count": 20,
      "outputs": []
    },
    {
      "cell_type": "code",
      "metadata": {
        "id": "VMS4adFf7Uta",
        "colab": {
          "base_uri": "https://localhost:8080/",
          "height": 170
        },
        "outputId": "fe0a96bd-d729-4e52-ea41-5a49ce929e5e"
      },
      "source": [
        "df1"
      ],
      "execution_count": 21,
      "outputs": [
        {
          "output_type": "execute_result",
          "data": {
            "text/html": [
              "<div>\n",
              "<style scoped>\n",
              "    .dataframe tbody tr th:only-of-type {\n",
              "        vertical-align: middle;\n",
              "    }\n",
              "\n",
              "    .dataframe tbody tr th {\n",
              "        vertical-align: top;\n",
              "    }\n",
              "\n",
              "    .dataframe thead th {\n",
              "        text-align: right;\n",
              "    }\n",
              "</style>\n",
              "<table border=\"1\" class=\"dataframe\">\n",
              "  <thead>\n",
              "    <tr style=\"text-align: right;\">\n",
              "      <th></th>\n",
              "      <th>기업명</th>\n",
              "      <th>매출액</th>\n",
              "      <th>업종</th>\n",
              "    </tr>\n",
              "    <tr>\n",
              "      <th>기업명</th>\n",
              "      <th></th>\n",
              "      <th></th>\n",
              "      <th></th>\n",
              "    </tr>\n",
              "  </thead>\n",
              "  <tbody>\n",
              "    <tr>\n",
              "      <th>삼성</th>\n",
              "      <td>삼성</td>\n",
              "      <td>2000</td>\n",
              "      <td>스마트폰</td>\n",
              "    </tr>\n",
              "    <tr>\n",
              "      <th>현대</th>\n",
              "      <td>현대</td>\n",
              "      <td>1000</td>\n",
              "      <td>자동차</td>\n",
              "    </tr>\n",
              "    <tr>\n",
              "      <th>네이버</th>\n",
              "      <td>네이버</td>\n",
              "      <td>500</td>\n",
              "      <td>포털</td>\n",
              "    </tr>\n",
              "  </tbody>\n",
              "</table>\n",
              "</div>"
            ],
            "text/plain": [
              "     기업명   매출액    업종\n",
              "기업명                 \n",
              "삼성    삼성  2000  스마트폰\n",
              "현대    현대  1000   자동차\n",
              "네이버  네이버   500    포털"
            ]
          },
          "metadata": {
            "tags": []
          },
          "execution_count": 21
        }
      ]
    },
    {
      "cell_type": "markdown",
      "metadata": {
        "id": "LEXSZx0v7Vl9"
      },
      "source": [
        "#### series = column 이라고 했음"
      ]
    },
    {
      "cell_type": "code",
      "metadata": {
        "id": "yfqQMmIb7pCz",
        "colab": {
          "base_uri": "https://localhost:8080/"
        },
        "outputId": "6dde45bc-72d4-4e48-9eb9-6a93bb80323d"
      },
      "source": [
        "df1['매출액']"
      ],
      "execution_count": 22,
      "outputs": [
        {
          "output_type": "execute_result",
          "data": {
            "text/plain": [
              "기업명\n",
              "삼성     2000\n",
              "현대     1000\n",
              "네이버     500\n",
              "Name: 매출액, dtype: int64"
            ]
          },
          "metadata": {
            "tags": []
          },
          "execution_count": 22
        }
      ]
    },
    {
      "cell_type": "code",
      "metadata": {
        "id": "Qk-0rKon7qQv",
        "colab": {
          "base_uri": "https://localhost:8080/"
        },
        "outputId": "c6c64229-3582-4d06-dbcc-c72d06962b39"
      },
      "source": [
        "type(df1['매출액'])"
      ],
      "execution_count": 23,
      "outputs": [
        {
          "output_type": "execute_result",
          "data": {
            "text/plain": [
              "pandas.core.series.Series"
            ]
          },
          "metadata": {
            "tags": []
          },
          "execution_count": 23
        }
      ]
    }
  ]
}
