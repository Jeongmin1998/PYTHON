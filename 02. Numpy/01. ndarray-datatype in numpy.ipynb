{
  "nbformat": 4,
  "nbformat_minor": 0,
  "metadata": {
    "colab": {
      "name": "[실습]Ch06.numpy - 02~03.import~ndarray.ipynb",
      "provenance": [],
      "collapsed_sections": []
    },
    "kernelspec": {
      "name": "python3",
      "display_name": "Python 3"
    }
  },
  "cells": [
    {
      "cell_type": "markdown",
      "metadata": {
        "id": "xP1RKIlng4LB"
      },
      "source": [
        "shape: 차원의 수 확인   \r\n",
        "axis: 기준이 되는 축 (0, 1, 2 ...)"
      ]
    },
    {
      "cell_type": "markdown",
      "metadata": {
        "id": "YF6gKv_yLvyA"
      },
      "source": [
        "## 1. Numpy : 과학적 계산해줌"
      ]
    },
    {
      "cell_type": "code",
      "metadata": {
        "id": "0_Kg9xjRLmo-"
      },
      "source": [
        "import numpy as np"
      ],
      "execution_count": 1,
      "outputs": []
    },
    {
      "cell_type": "code",
      "metadata": {
        "colab": {
          "base_uri": "https://localhost:8080/"
        },
        "id": "WPv-VszphSxQ",
        "outputId": "103b3dc1-ad6f-4773-8151-4bf96cc1aed7"
      },
      "source": [
        "np"
      ],
      "execution_count": 2,
      "outputs": [
        {
          "output_type": "execute_result",
          "data": {
            "text/plain": [
              "<module 'numpy' from '/usr/local/lib/python3.6/dist-packages/numpy/__init__.py'>"
            ]
          },
          "metadata": {
            "tags": []
          },
          "execution_count": 2
        }
      ]
    },
    {
      "cell_type": "markdown",
      "metadata": {
        "id": "e_ttjq8eL4yg"
      },
      "source": [
        "## 2. ndarray 생성하기"
      ]
    },
    {
      "cell_type": "code",
      "metadata": {
        "id": "mwQN0_UzMGPO"
      },
      "source": [
        "arr = np.array([1,2,3,4], dtype=int)\n"
      ],
      "execution_count": 3,
      "outputs": []
    },
    {
      "cell_type": "code",
      "metadata": {
        "id": "qg-d37wfMJ85",
        "colab": {
          "base_uri": "https://localhost:8080/"
        },
        "outputId": "699298b1-9fb1-4ece-f8e7-2e8d77ef05e3"
      },
      "source": [
        "arr"
      ],
      "execution_count": 4,
      "outputs": [
        {
          "output_type": "execute_result",
          "data": {
            "text/plain": [
              "array([1, 2, 3, 4])"
            ]
          },
          "metadata": {
            "tags": []
          },
          "execution_count": 4
        }
      ]
    },
    {
      "cell_type": "code",
      "metadata": {
        "id": "pK4LQp_feRLr",
        "colab": {
          "base_uri": "https://localhost:8080/"
        },
        "outputId": "9f3e564e-86fa-4af1-95a7-09b4d424ec58"
      },
      "source": [
        "[1, 2, 3, 4] #list랑 조금 다름"
      ],
      "execution_count": 6,
      "outputs": [
        {
          "output_type": "execute_result",
          "data": {
            "text/plain": [
              "[1, 2, 3, 4]"
            ]
          },
          "metadata": {
            "tags": []
          },
          "execution_count": 6
        }
      ]
    },
    {
      "cell_type": "code",
      "metadata": {
        "id": "FpjKmMxJMVF3",
        "colab": {
          "base_uri": "https://localhost:8080/"
        },
        "outputId": "1e600a20-b69a-4346-8743-349dc4fe4d0d"
      },
      "source": [
        "type(arr)"
      ],
      "execution_count": 7,
      "outputs": [
        {
          "output_type": "execute_result",
          "data": {
            "text/plain": [
              "numpy.ndarray"
            ]
          },
          "metadata": {
            "tags": []
          },
          "execution_count": 7
        }
      ]
    },
    {
      "cell_type": "markdown",
      "metadata": {
        "id": "n83ZdpYzMWCh"
      },
      "source": [
        "### 2-1. list로부터 생성하기"
      ]
    },
    {
      "cell_type": "code",
      "metadata": {
        "id": "3FoRNCmxMa96"
      },
      "source": [
        "mylist1 = [1, 2, 3, 4] #1차원 리스트"
      ],
      "execution_count": 8,
      "outputs": []
    },
    {
      "cell_type": "code",
      "metadata": {
        "id": "lk6wwjOEMcqN"
      },
      "source": [
        "mylist2 = [[1, 2, 3, 4], #2차원 리스트, 대괄호 두번!!\n",
        "           [5, 6, 7, 8]]"
      ],
      "execution_count": 9,
      "outputs": []
    },
    {
      "cell_type": "code",
      "metadata": {
        "id": "9aeUwDAkMhok"
      },
      "source": [
        "arr1 = np.array(mylist1)\n"
      ],
      "execution_count": 10,
      "outputs": []
    },
    {
      "cell_type": "code",
      "metadata": {
        "id": "uj3yIOjtMjjB"
      },
      "source": [
        "arr2 = np.array(mylist2)\n"
      ],
      "execution_count": 11,
      "outputs": []
    },
    {
      "cell_type": "markdown",
      "metadata": {
        "id": "yzMxMbQzMtNO"
      },
      "source": [
        "### 2-2. shape확인하기  \r\n",
        "shape: 차원의 수를 확인\r\n"
      ]
    },
    {
      "cell_type": "code",
      "metadata": {
        "id": "JvsXql8XMzSQ",
        "colab": {
          "base_uri": "https://localhost:8080/"
        },
        "outputId": "20d9502d-97ff-4c3c-ee87-1d683d641676"
      },
      "source": [
        "arr1.shape #1차원의 개수 4\n"
      ],
      "execution_count": 13,
      "outputs": [
        {
          "output_type": "execute_result",
          "data": {
            "text/plain": [
              "(4,)"
            ]
          },
          "metadata": {
            "tags": []
          },
          "execution_count": 13
        }
      ]
    },
    {
      "cell_type": "code",
      "metadata": {
        "id": "0DvV6rmdM0zH",
        "colab": {
          "base_uri": "https://localhost:8080/"
        },
        "outputId": "75cbe829-5ad7-4f88-e875-99d9537569bb"
      },
      "source": [
        "arr2.shape #행 2 열 4\n"
      ],
      "execution_count": 14,
      "outputs": [
        {
          "output_type": "execute_result",
          "data": {
            "text/plain": [
              "(2, 4)"
            ]
          },
          "metadata": {
            "tags": []
          },
          "execution_count": 14
        }
      ]
    },
    {
      "cell_type": "markdown",
      "metadata": {
        "id": "gX-z_P_LM9LV"
      },
      "source": [
        "## 3. array에서의 data 타입"
      ]
    },
    {
      "cell_type": "markdown",
      "metadata": {
        "id": "MktQdRu7NCt_"
      },
      "source": [
        "array에서는 list와는 다르게 1개의 **단일 데이터 타입**만 허용."
      ]
    },
    {
      "cell_type": "markdown",
      "metadata": {
        "id": "XTLMkufHNT_M"
      },
      "source": [
        "### 3-1. list에서의 data 타입"
      ]
    },
    {
      "cell_type": "code",
      "metadata": {
        "id": "C0B5BIjtNIhI"
      },
      "source": [
        "mylist = [1, 3.14, '정민', '1234']"
      ],
      "execution_count": 33,
      "outputs": []
    },
    {
      "cell_type": "code",
      "metadata": {
        "id": "KGJ2KOsiNN9e",
        "colab": {
          "base_uri": "https://localhost:8080/"
        },
        "outputId": "2bf40d77-dd7c-4394-993f-929e3f7cfa32"
      },
      "source": [
        "mylist"
      ],
      "execution_count": 34,
      "outputs": [
        {
          "output_type": "execute_result",
          "data": {
            "text/plain": [
              "[1, 3.14, '정민', '1234']"
            ]
          },
          "metadata": {
            "tags": []
          },
          "execution_count": 34
        }
      ]
    },
    {
      "cell_type": "code",
      "metadata": {
        "id": "2DpInJBdNQBx",
        "colab": {
          "base_uri": "https://localhost:8080/"
        },
        "outputId": "775a47a6-08b4-4daa-a629-7ec9d745ea4a"
      },
      "source": [
        "mylist[1]\n"
      ],
      "execution_count": 35,
      "outputs": [
        {
          "output_type": "execute_result",
          "data": {
            "text/plain": [
              "3.14"
            ]
          },
          "metadata": {
            "tags": []
          },
          "execution_count": 35
        }
      ]
    },
    {
      "cell_type": "code",
      "metadata": {
        "id": "xjgOr_LnNRgp",
        "colab": {
          "base_uri": "https://localhost:8080/",
          "height": 35
        },
        "outputId": "46a47e5d-8412-4cea-db6a-f2ba7b327a18"
      },
      "source": [
        "mylist[2]"
      ],
      "execution_count": 36,
      "outputs": [
        {
          "output_type": "execute_result",
          "data": {
            "application/vnd.google.colaboratory.intrinsic+json": {
              "type": "string"
            },
            "text/plain": [
              "'정민'"
            ]
          },
          "metadata": {
            "tags": []
          },
          "execution_count": 36
        }
      ]
    },
    {
      "cell_type": "markdown",
      "metadata": {
        "id": "GX81OuGvNSWJ"
      },
      "source": [
        "### 3-2. array에서의 data 타입 (case를 통한 연구)"
      ]
    },
    {
      "cell_type": "markdown",
      "metadata": {
        "id": "szwCkfiKOscZ"
      },
      "source": [
        "### case 1. int와 float 타입이 혼재된 경우"
      ]
    },
    {
      "cell_type": "code",
      "metadata": {
        "id": "cbixPa34Opbw"
      },
      "source": [
        "arr = np.array([1, 2, 3, 3.14])"
      ],
      "execution_count": 37,
      "outputs": []
    },
    {
      "cell_type": "code",
      "metadata": {
        "id": "ic54uzs8Oq2l",
        "colab": {
          "base_uri": "https://localhost:8080/"
        },
        "outputId": "3a170f72-2159-470c-b972-b250cf1fc805"
      },
      "source": [
        "arr #정수가 실수에 맞춰서 바뀜"
      ],
      "execution_count": 38,
      "outputs": [
        {
          "output_type": "execute_result",
          "data": {
            "text/plain": [
              "array([1.  , 2.  , 3.  , 3.14])"
            ]
          },
          "metadata": {
            "tags": []
          },
          "execution_count": 38
        }
      ]
    },
    {
      "cell_type": "markdown",
      "metadata": {
        "id": "NK9OEY8cO1h1"
      },
      "source": [
        "### case 2. int와 float 타입이 혼재되었으나, dtype을 지정한 경우"
      ]
    },
    {
      "cell_type": "code",
      "metadata": {
        "id": "J-CMx0MkOiVB"
      },
      "source": [
        "arr = np.array([1, 2, 3, 3.14], dtype=int)"
      ],
      "execution_count": 39,
      "outputs": []
    },
    {
      "cell_type": "code",
      "metadata": {
        "id": "9CyK3SNOOmuI",
        "colab": {
          "base_uri": "https://localhost:8080/"
        },
        "outputId": "3dd00f29-502d-4d7d-ef1e-7e5cc1112a5e"
      },
      "source": [
        "arr #실수가 정수에 맞춤(따로 설정해줬을 때)"
      ],
      "execution_count": 40,
      "outputs": [
        {
          "output_type": "execute_result",
          "data": {
            "text/plain": [
              "array([1, 2, 3, 3])"
            ]
          },
          "metadata": {
            "tags": []
          },
          "execution_count": 40
        }
      ]
    },
    {
      "cell_type": "markdown",
      "metadata": {
        "id": "RDfxDsUWOoT1"
      },
      "source": [
        "### case 3. int와 str 타입이 혼재된 경우"
      ]
    },
    {
      "cell_type": "code",
      "metadata": {
        "id": "EFxhPu_oNZ9V"
      },
      "source": [
        "arr = np.array([1, 3.14, '정민', '1234'])"
      ],
      "execution_count": 41,
      "outputs": []
    },
    {
      "cell_type": "code",
      "metadata": {
        "id": "bkZjF2alNeXJ",
        "colab": {
          "base_uri": "https://localhost:8080/"
        },
        "outputId": "a243beee-0783-4f4d-a08b-06f8258d2793"
      },
      "source": [
        "arr #정수와 실수가 문자열로 바뀜"
      ],
      "execution_count": 42,
      "outputs": [
        {
          "output_type": "execute_result",
          "data": {
            "text/plain": [
              "array(['1', '3.14', '정민', '1234'], dtype='<U32')"
            ]
          },
          "metadata": {
            "tags": []
          },
          "execution_count": 42
        }
      ]
    },
    {
      "cell_type": "code",
      "metadata": {
        "id": "VcFfCH16Ni4-",
        "colab": {
          "base_uri": "https://localhost:8080/",
          "height": 35
        },
        "outputId": "2bbf9908-e490-4fa5-c45c-752acc16fba8"
      },
      "source": [
        "arr[0] + arr[1] #문자열이기 때문에 앞뒤를 붙임"
      ],
      "execution_count": 43,
      "outputs": [
        {
          "output_type": "execute_result",
          "data": {
            "application/vnd.google.colaboratory.intrinsic+json": {
              "type": "string"
            },
            "text/plain": [
              "'13.14'"
            ]
          },
          "metadata": {
            "tags": []
          },
          "execution_count": 43
        }
      ]
    },
    {
      "cell_type": "markdown",
      "metadata": {
        "id": "ihIB8zQfPCLP"
      },
      "source": [
        "### case 4. int와 str 타입이 혼재되어 있고 int로 dtype을 지정한 경우"
      ]
    },
    {
      "cell_type": "code",
      "metadata": {
        "id": "L2cVoxoEPH7X",
        "colab": {
          "base_uri": "https://localhost:8080/",
          "height": 170
        },
        "outputId": "46d2f34c-cbd1-488e-c691-066ef5ab0c8e"
      },
      "source": [
        "arr = np.array([1, 3.14, '정민','1234'], dtype=int) #문자열은 도저히 실수로 못 바꿈"
      ],
      "execution_count": 44,
      "outputs": [
        {
          "output_type": "error",
          "ename": "ValueError",
          "evalue": "ignored",
          "traceback": [
            "\u001b[0;31m---------------------------------------------------------------------------\u001b[0m",
            "\u001b[0;31mValueError\u001b[0m                                Traceback (most recent call last)",
            "\u001b[0;32m<ipython-input-44-0af114a5d7de>\u001b[0m in \u001b[0;36m<module>\u001b[0;34m()\u001b[0m\n\u001b[0;32m----> 1\u001b[0;31m \u001b[0marr\u001b[0m \u001b[0;34m=\u001b[0m \u001b[0mnp\u001b[0m\u001b[0;34m.\u001b[0m\u001b[0marray\u001b[0m\u001b[0;34m(\u001b[0m\u001b[0;34m[\u001b[0m\u001b[0;36m1\u001b[0m\u001b[0;34m,\u001b[0m \u001b[0;36m3.14\u001b[0m\u001b[0;34m,\u001b[0m \u001b[0;34m'정민'\u001b[0m\u001b[0;34m,\u001b[0m\u001b[0;34m'1234'\u001b[0m\u001b[0;34m]\u001b[0m\u001b[0;34m,\u001b[0m \u001b[0mdtype\u001b[0m\u001b[0;34m=\u001b[0m\u001b[0mint\u001b[0m\u001b[0;34m)\u001b[0m \u001b[0;31m#문자열은 도저히 실수로 못 바꿈\u001b[0m\u001b[0;34m\u001b[0m\u001b[0;34m\u001b[0m\u001b[0m\n\u001b[0m",
            "\u001b[0;31mValueError\u001b[0m: invalid literal for int() with base 10: '정민'"
          ]
        }
      ]
    },
    {
      "cell_type": "code",
      "metadata": {
        "id": "f7EtNlGuPLTM",
        "colab": {
          "base_uri": "https://localhost:8080/"
        },
        "outputId": "5a3efd67-6f84-4550-ca41-90281d961e2d"
      },
      "source": [
        "arr"
      ],
      "execution_count": 45,
      "outputs": [
        {
          "output_type": "execute_result",
          "data": {
            "text/plain": [
              "array(['1', '3.14', '정민', '1234'], dtype='<U32')"
            ]
          },
          "metadata": {
            "tags": []
          },
          "execution_count": 45
        }
      ]
    },
    {
      "cell_type": "code",
      "metadata": {
        "id": "iE0BLDCTfZc9"
      },
      "source": [
        ""
      ],
      "execution_count": null,
      "outputs": []
    }
  ]
}
