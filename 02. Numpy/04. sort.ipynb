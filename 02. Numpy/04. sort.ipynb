{
  "nbformat": 4,
  "nbformat_minor": 0,
  "metadata": {
    "colab": {
      "name": "[실습]Ch06.numpy - 08~09.정렬(sort).ipynb",
      "provenance": [],
      "collapsed_sections": []
    },
    "kernelspec": {
      "name": "python3",
      "display_name": "Python 3"
    }
  },
  "cells": [
    {
      "cell_type": "code",
      "metadata": {
        "id": "MHrD2Y3QJq7l"
      },
      "source": [
        "import numpy as np"
      ],
      "execution_count": 1,
      "outputs": []
    },
    {
      "cell_type": "markdown",
      "metadata": {
        "id": "VGNy7j4vAWGC"
      },
      "source": [
        "## 1. 1차원 정렬"
      ]
    },
    {
      "cell_type": "markdown",
      "metadata": {
        "id": "-9nSxjZEJ4WH"
      },
      "source": [
        "1차원 정렬은 매우 간단"
      ]
    },
    {
      "cell_type": "code",
      "metadata": {
        "id": "N8srXe3kJ1CI"
      },
      "source": [
        "arr = np.array([1, 10, 5, 8, 2, 4, 3, 6, 8, 7, 9])"
      ],
      "execution_count": 2,
      "outputs": []
    },
    {
      "cell_type": "code",
      "metadata": {
        "id": "qjKfuAWwKHuv",
        "colab": {
          "base_uri": "https://localhost:8080/"
        },
        "outputId": "0e707a09-7179-4f5f-9049-080820384863"
      },
      "source": [
        "arr"
      ],
      "execution_count": 3,
      "outputs": [
        {
          "output_type": "execute_result",
          "data": {
            "text/plain": [
              "array([ 1, 10,  5,  8,  2,  4,  3,  6,  8,  7,  9])"
            ]
          },
          "metadata": {
            "tags": []
          },
          "execution_count": 3
        }
      ]
    },
    {
      "cell_type": "markdown",
      "metadata": {
        "id": "qJgxXiw6KJoo"
      },
      "source": [
        "np.sort(arr)"
      ]
    },
    {
      "cell_type": "code",
      "metadata": {
        "id": "7KvWPPaPKLep",
        "colab": {
          "base_uri": "https://localhost:8080/"
        },
        "outputId": "33d4429a-6d37-4f2b-81e2-9bbe356d1013"
      },
      "source": [
        "np.sort(arr)"
      ],
      "execution_count": 4,
      "outputs": [
        {
          "output_type": "execute_result",
          "data": {
            "text/plain": [
              "array([ 1,  2,  3,  4,  5,  6,  7,  8,  8,  9, 10])"
            ]
          },
          "metadata": {
            "tags": []
          },
          "execution_count": 4
        }
      ]
    },
    {
      "cell_type": "markdown",
      "metadata": {
        "id": "pvJTDEsTKORq"
      },
      "source": [
        "기본적으로 오름차순 "
      ]
    },
    {
      "cell_type": "code",
      "metadata": {
        "id": "rAO6KvBXKMMw",
        "colab": {
          "base_uri": "https://localhost:8080/"
        },
        "outputId": "b84407b0-961c-44d8-a0a8-2d9bc776c6bd"
      },
      "source": [
        "np.sort(arr)[::-1]"
      ],
      "execution_count": 5,
      "outputs": [
        {
          "output_type": "execute_result",
          "data": {
            "text/plain": [
              "array([10,  9,  8,  8,  7,  6,  5,  4,  3,  2,  1])"
            ]
          },
          "metadata": {
            "tags": []
          },
          "execution_count": 5
        }
      ]
    },
    {
      "cell_type": "markdown",
      "metadata": {
        "id": "OsuNJIbtKNLw"
      },
      "source": [
        "내림차순 정렬은 옵션에 -1 값\r\n"
      ]
    },
    {
      "cell_type": "markdown",
      "metadata": {
        "id": "pua2SnjpKWln"
      },
      "source": [
        "하지만, 이 값들은 **유지가 되지 않음**!"
      ]
    },
    {
      "cell_type": "markdown",
      "metadata": {
        "id": "mWfIMYU4K24Q"
      },
      "source": [
        "값을 sort 된 상태로 저장하려면, 배열 자체에 sort"
      ]
    },
    {
      "cell_type": "code",
      "metadata": {
        "id": "eiDxXfm9qwqs",
        "colab": {
          "base_uri": "https://localhost:8080/"
        },
        "outputId": "72f3b9dc-4743-4dc8-d8ac-6afc34d706dd"
      },
      "source": [
        "np.sort(arr)"
      ],
      "execution_count": 6,
      "outputs": [
        {
          "output_type": "execute_result",
          "data": {
            "text/plain": [
              "array([ 1,  2,  3,  4,  5,  6,  7,  8,  8,  9, 10])"
            ]
          },
          "metadata": {
            "tags": []
          },
          "execution_count": 6
        }
      ]
    },
    {
      "cell_type": "code",
      "metadata": {
        "colab": {
          "base_uri": "https://localhost:8080/"
        },
        "id": "UE5y-Bd0BgTV",
        "outputId": "8c9e6cf8-959a-46df-804d-cf3e50ada27e"
      },
      "source": [
        "arr"
      ],
      "execution_count": 7,
      "outputs": [
        {
          "output_type": "execute_result",
          "data": {
            "text/plain": [
              "array([ 1, 10,  5,  8,  2,  4,  3,  6,  8,  7,  9])"
            ]
          },
          "metadata": {
            "tags": []
          },
          "execution_count": 7
        }
      ]
    },
    {
      "cell_type": "code",
      "metadata": {
        "id": "jMN43SI_qyXN"
      },
      "source": [
        "arr2 = np.sort(arr)"
      ],
      "execution_count": 8,
      "outputs": []
    },
    {
      "cell_type": "code",
      "metadata": {
        "id": "00DnLZIxq7eA",
        "colab": {
          "base_uri": "https://localhost:8080/"
        },
        "outputId": "622d5ef6-de85-4e73-f3c9-ea5f734016ab"
      },
      "source": [
        "arr"
      ],
      "execution_count": 9,
      "outputs": [
        {
          "output_type": "execute_result",
          "data": {
            "text/plain": [
              "array([ 1, 10,  5,  8,  2,  4,  3,  6,  8,  7,  9])"
            ]
          },
          "metadata": {
            "tags": []
          },
          "execution_count": 9
        }
      ]
    },
    {
      "cell_type": "code",
      "metadata": {
        "id": "YNG3GMwxq5sn",
        "colab": {
          "base_uri": "https://localhost:8080/"
        },
        "outputId": "efcd7c27-7de4-4516-d429-86bff861c742"
      },
      "source": [
        "arr2"
      ],
      "execution_count": 10,
      "outputs": [
        {
          "output_type": "execute_result",
          "data": {
            "text/plain": [
              "array([ 1,  2,  3,  4,  5,  6,  7,  8,  8,  9, 10])"
            ]
          },
          "metadata": {
            "tags": []
          },
          "execution_count": 10
        }
      ]
    },
    {
      "cell_type": "code",
      "metadata": {
        "id": "9K9cV72ZK-Ko"
      },
      "source": [
        "arr.sort()  #더 쉬운 유지 방법"
      ],
      "execution_count": 12,
      "outputs": []
    },
    {
      "cell_type": "code",
      "metadata": {
        "id": "6uMEnTSnK_Mw",
        "colab": {
          "base_uri": "https://localhost:8080/"
        },
        "outputId": "0faf445b-b2ab-4ed9-bf97-1ab4eb1a42de"
      },
      "source": [
        "arr"
      ],
      "execution_count": 13,
      "outputs": [
        {
          "output_type": "execute_result",
          "data": {
            "text/plain": [
              "array([ 1,  2,  3,  4,  5,  6,  7,  8,  8,  9, 10])"
            ]
          },
          "metadata": {
            "tags": []
          },
          "execution_count": 13
        }
      ]
    },
    {
      "cell_type": "markdown",
      "metadata": {
        "id": "baXVQJQxLCww"
      },
      "source": [
        "## 2. N차원 정렬\r\n",
        "\r\n",
        "shape와 axis 주의\r\n"
      ]
    },
    {
      "cell_type": "code",
      "metadata": {
        "id": "Z065jsH2LGlg"
      },
      "source": [
        "arr2d = np.array([[5, 6, 7, 8], \n",
        "                  [4, 3, 2, 1],\n",
        "                  [10, 9, 12, 11]])"
      ],
      "execution_count": 14,
      "outputs": []
    },
    {
      "cell_type": "code",
      "metadata": {
        "id": "U9ch4G44rieM",
        "colab": {
          "base_uri": "https://localhost:8080/"
        },
        "outputId": "7ff8abe2-03dd-4a64-fda4-940e922df128"
      },
      "source": [
        "arr2d.shape"
      ],
      "execution_count": 15,
      "outputs": [
        {
          "output_type": "execute_result",
          "data": {
            "text/plain": [
              "(3, 4)"
            ]
          },
          "metadata": {
            "tags": []
          },
          "execution_count": 15
        }
      ]
    },
    {
      "cell_type": "markdown",
      "metadata": {
        "id": "oHGGgf9cLxxQ"
      },
      "source": [
        "### 2-1. 열 정렬 (왼쪽에서 오른쪽으로)"
      ]
    },
    {
      "cell_type": "code",
      "metadata": {
        "id": "qQqbg2nyL8Cw",
        "colab": {
          "base_uri": "https://localhost:8080/"
        },
        "outputId": "9c3415a0-ccd1-4ed9-b3ac-3fc87812d0d1"
      },
      "source": [
        "arr2d"
      ],
      "execution_count": 17,
      "outputs": [
        {
          "output_type": "execute_result",
          "data": {
            "text/plain": [
              "array([[ 5,  6,  7,  8],\n",
              "       [ 4,  3,  2,  1],\n",
              "       [10,  9, 12, 11]])"
            ]
          },
          "metadata": {
            "tags": []
          },
          "execution_count": 17
        }
      ]
    },
    {
      "cell_type": "code",
      "metadata": {
        "id": "tw5Wrw_ZLVkf",
        "colab": {
          "base_uri": "https://localhost:8080/"
        },
        "outputId": "36c17974-bda5-4054-d539-eb0816424c3e"
      },
      "source": [
        "np.sort(arr2d, axis=1)"
      ],
      "execution_count": 18,
      "outputs": [
        {
          "output_type": "execute_result",
          "data": {
            "text/plain": [
              "array([[ 5,  6,  7,  8],\n",
              "       [ 1,  2,  3,  4],\n",
              "       [ 9, 10, 11, 12]])"
            ]
          },
          "metadata": {
            "tags": []
          },
          "execution_count": 18
        }
      ]
    },
    {
      "cell_type": "markdown",
      "metadata": {
        "id": "5gKzuuOJLr-P"
      },
      "source": [
        "### 2-2. 행 정렬 (위에서 아래로)"
      ]
    },
    {
      "cell_type": "code",
      "metadata": {
        "id": "tuZHbojFL5az",
        "colab": {
          "base_uri": "https://localhost:8080/"
        },
        "outputId": "e440c2f3-c6c6-4a98-841e-f4e7e9e18564"
      },
      "source": [
        "arr2d"
      ],
      "execution_count": 19,
      "outputs": [
        {
          "output_type": "execute_result",
          "data": {
            "text/plain": [
              "array([[ 5,  6,  7,  8],\n",
              "       [ 4,  3,  2,  1],\n",
              "       [10,  9, 12, 11]])"
            ]
          },
          "metadata": {
            "tags": []
          },
          "execution_count": 19
        }
      ]
    },
    {
      "cell_type": "code",
      "metadata": {
        "id": "50fUgOYtLYbg",
        "colab": {
          "base_uri": "https://localhost:8080/"
        },
        "outputId": "bf68dc91-722c-49ec-81f7-d9dddd5fa5d3"
      },
      "source": [
        "np.sort(arr2d, axis=0)"
      ],
      "execution_count": 20,
      "outputs": [
        {
          "output_type": "execute_result",
          "data": {
            "text/plain": [
              "array([[ 4,  3,  2,  1],\n",
              "       [ 5,  6,  7,  8],\n",
              "       [10,  9, 12, 11]])"
            ]
          },
          "metadata": {
            "tags": []
          },
          "execution_count": 20
        }
      ]
    },
    {
      "cell_type": "markdown",
      "metadata": {
        "id": "shL5hUigMKVf"
      },
      "source": [
        "## 3. index를 반환하는 argsort\r\n",
        "\r\n",
        "값이 언제든 변할 수 있기 때문에 index 알고 싶을 때 있음.\r\n"
      ]
    },
    {
      "cell_type": "markdown",
      "metadata": {
        "id": "jZTm3IVRMOys"
      },
      "source": [
        "정렬된 값을 반환하는 것이 아닌 index를 반환"
      ]
    },
    {
      "cell_type": "code",
      "metadata": {
        "id": "KMIrKnTNMSeP"
      },
      "source": [
        "arr2d = np.array([[5, 6, 7, 8], \n",
        "                  [4, 3, 2, 1],\n",
        "                  [10, 9, 12, 11]])"
      ],
      "execution_count": 21,
      "outputs": []
    },
    {
      "cell_type": "markdown",
      "metadata": {
        "id": "OSVeVt9MMYf_"
      },
      "source": [
        "\n",
        "### 3-1. 열 정렬 (왼쪽에서 오른쪽으로)"
      ]
    },
    {
      "cell_type": "code",
      "metadata": {
        "id": "a0iDxGE3MFfF",
        "colab": {
          "base_uri": "https://localhost:8080/"
        },
        "outputId": "1f5f8bc5-cf4c-402a-c4ca-5fda4ed85189"
      },
      "source": [
        "np.argsort(arr2d, axis=1)"
      ],
      "execution_count": 23,
      "outputs": [
        {
          "output_type": "execute_result",
          "data": {
            "text/plain": [
              "array([[0, 1, 2, 3],\n",
              "       [3, 2, 1, 0],\n",
              "       [1, 0, 3, 2]])"
            ]
          },
          "metadata": {
            "tags": []
          },
          "execution_count": 23
        }
      ]
    },
    {
      "cell_type": "markdown",
      "metadata": {
        "id": "ae1f3EujMH-X"
      },
      "source": [
        "### 3-2. 행 정렬"
      ]
    },
    {
      "cell_type": "code",
      "metadata": {
        "id": "usl8PioHMp4A",
        "colab": {
          "base_uri": "https://localhost:8080/"
        },
        "outputId": "e0d3c7d3-fd34-4cb3-c23a-413935c0bbcc"
      },
      "source": [
        "arr2d"
      ],
      "execution_count": 24,
      "outputs": [
        {
          "output_type": "execute_result",
          "data": {
            "text/plain": [
              "array([[ 5,  6,  7,  8],\n",
              "       [ 4,  3,  2,  1],\n",
              "       [10,  9, 12, 11]])"
            ]
          },
          "metadata": {
            "tags": []
          },
          "execution_count": 24
        }
      ]
    },
    {
      "cell_type": "code",
      "metadata": {
        "id": "stPz_OloMsV3",
        "colab": {
          "base_uri": "https://localhost:8080/"
        },
        "outputId": "37966f34-0b14-49c3-87e3-9cc773f8f8a0"
      },
      "source": [
        "np.argsort(arr2d, axis=0)"
      ],
      "execution_count": 25,
      "outputs": [
        {
          "output_type": "execute_result",
          "data": {
            "text/plain": [
              "array([[1, 1, 1, 1],\n",
              "       [0, 0, 0, 0],\n",
              "       [2, 2, 2, 2]])"
            ]
          },
          "metadata": {
            "tags": []
          },
          "execution_count": 25
        }
      ]
    }
  ]
}
