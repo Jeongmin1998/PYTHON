{
  "nbformat": 4,
  "nbformat_minor": 0,
  "metadata": {
    "colab": {
      "name": "[실습]Ch06.numpy - 13.broadcasting.ipynb",
      "provenance": [],
      "collapsed_sections": []
    },
    "kernelspec": {
      "name": "python3",
      "display_name": "Python 3"
    }
  },
  "cells": [
    {
      "cell_type": "code",
      "metadata": {
        "id": "LulZNt92NkpN"
      },
      "source": [
        "import numpy as np"
      ],
      "execution_count": 1,
      "outputs": []
    },
    {
      "cell_type": "markdown",
      "metadata": {
        "id": "SRvQcvZCnW3i"
      },
      "source": [
        "## 1. Broadcasting\r\n",
        "\r\n",
        "예) 전체적으로 100을 더하고 싶을 때 등"
      ]
    },
    {
      "cell_type": "markdown",
      "metadata": {
        "id": "CmHlXQZpnmV-"
      },
      "source": [
        "## 1-1. 숫자의 연산 (단일)"
      ]
    },
    {
      "cell_type": "code",
      "metadata": {
        "id": "ph3AU9BtnWO8"
      },
      "source": [
        "a = np.array([[1, 2, 3], \n",
        "              [2, 3, 4]])"
      ],
      "execution_count": 2,
      "outputs": []
    },
    {
      "cell_type": "code",
      "metadata": {
        "id": "wP3ryxaVeMAU"
      },
      "source": [
        "b = np.array([[3, 3, 3], \n",
        "              [3, 3, 3]])"
      ],
      "execution_count": 3,
      "outputs": []
    },
    {
      "cell_type": "code",
      "metadata": {
        "id": "NwrXRYpRePwT",
        "colab": {
          "base_uri": "https://localhost:8080/"
        },
        "outputId": "15f39e87-9d1e-4be1-dee7-26af9d36a3e4"
      },
      "source": [
        "a + b #복잡하고 귀찮음"
      ],
      "execution_count": 4,
      "outputs": [
        {
          "output_type": "execute_result",
          "data": {
            "text/plain": [
              "array([[4, 5, 6],\n",
              "       [5, 6, 7]])"
            ]
          },
          "metadata": {
            "tags": []
          },
          "execution_count": 4
        }
      ]
    },
    {
      "cell_type": "code",
      "metadata": {
        "id": "q7bEEmV6nb4u",
        "colab": {
          "base_uri": "https://localhost:8080/"
        },
        "outputId": "2cd4152e-2d47-4220-bfcc-8defd9db8516"
      },
      "source": [
        "a +3"
      ],
      "execution_count": 5,
      "outputs": [
        {
          "output_type": "execute_result",
          "data": {
            "text/plain": [
              "array([[4, 5, 6],\n",
              "       [5, 6, 7]])"
            ]
          },
          "metadata": {
            "tags": []
          },
          "execution_count": 5
        }
      ]
    },
    {
      "cell_type": "code",
      "metadata": {
        "id": "7M0D2XH_nc7k",
        "colab": {
          "base_uri": "https://localhost:8080/"
        },
        "outputId": "0c70dc1c-d1cb-42fa-bb22-883055d0d99f"
      },
      "source": [
        "a-3"
      ],
      "execution_count": 6,
      "outputs": [
        {
          "output_type": "execute_result",
          "data": {
            "text/plain": [
              "array([[-2, -1,  0],\n",
              "       [-1,  0,  1]])"
            ]
          },
          "metadata": {
            "tags": []
          },
          "execution_count": 6
        }
      ]
    },
    {
      "cell_type": "code",
      "metadata": {
        "id": "IVybQr5hnXgN",
        "colab": {
          "base_uri": "https://localhost:8080/"
        },
        "outputId": "6ec12bd2-4bb5-438b-f27b-15eeba1b096b"
      },
      "source": [
        "a*3"
      ],
      "execution_count": 7,
      "outputs": [
        {
          "output_type": "execute_result",
          "data": {
            "text/plain": [
              "array([[ 3,  6,  9],\n",
              "       [ 6,  9, 12]])"
            ]
          },
          "metadata": {
            "tags": []
          },
          "execution_count": 7
        }
      ]
    },
    {
      "cell_type": "code",
      "metadata": {
        "id": "NIdre4HjnZkV",
        "colab": {
          "base_uri": "https://localhost:8080/"
        },
        "outputId": "3dc6007f-12b8-459e-81b2-664ef7499cb7"
      },
      "source": [
        "a/3"
      ],
      "execution_count": 8,
      "outputs": [
        {
          "output_type": "execute_result",
          "data": {
            "text/plain": [
              "array([[0.33333333, 0.66666667, 1.        ],\n",
              "       [0.66666667, 1.        , 1.33333333]])"
            ]
          },
          "metadata": {
            "tags": []
          },
          "execution_count": 8
        }
      ]
    }
  ]
}
